{
 "cells": [
  {
   "cell_type": "markdown",
   "id": "3201ec8f-854d-49c5-a94f-50189a2f1e68",
   "metadata": {},
   "source": [
    "# Assignment 2: Evaluation of spaCy's dependency parser"
   ]
  },
  {
   "cell_type": "markdown",
   "id": "1bb521d5-9f31-4b2b-9f3e-6d8b0070f15e",
   "metadata": {},
   "source": [
    "## by Anna Calonge, Ethan Hoeft, Mar Segalés"
   ]
  },
  {
   "cell_type": "markdown",
   "id": "eaf25dcd-5a59-43e3-8936-50f417ce59fe",
   "metadata": {},
   "source": [
    "First of all, if the user has never previously used and installed spaCy in their system, they have to install it by running the following code and downloading the English and Catalan packages:"
   ]
  },
  {
   "cell_type": "code",
   "execution_count": null,
   "id": "094f7666-1626-4190-850a-12659d972dca",
   "metadata": {
    "tags": []
   },
   "outputs": [
    {
     "name": "stdout",
     "output_type": "stream",
     "text": [
      "Requirement already satisfied: pip in /opt/anaconda3/lib/python3.9/site-packages (23.0.1)\n"
     ]
    }
   ],
   "source": [
    "!pip install -U pip setuptools wheel\n",
    "!pip install -U spacy\n",
    "!python -m spacy download ca_core_news_sm\n",
    "!python -m spacy download en_core_web_sm"
   ]
  },
  {
   "cell_type": "markdown",
   "id": "1efb617a-f1cc-401c-b496-c2b3383f00ed",
   "metadata": {},
   "source": [
    "### ENGLISH SAMPLE - UNIVERSAL DEPENDENCIES TREEBANK"
   ]
  },
  {
   "cell_type": "markdown",
   "id": "74d957c7-8daf-45e3-ab06-f493d15721d7",
   "metadata": {},
   "source": [
    "We got our English sample from the GUM repository, which took us to a GitHub site. There, there were several datasets. We got our text from the ‘en_gum-ud-train.conllu’ dataset, which led us to a raw file with samples and annotations. We selected the following text:\n",
    "\n",
    "\"The viewing experience of art is a complex one, involving issues of perception, attention, memory, decision-making, affect, and emotion.\"\n",
    "\n",
    "All the annotated information associated to it was the follwing:"
   ]
  },
  {
   "cell_type": "raw",
   "id": "0d183f87-9ebc-4a37-aecc-089b9b41e31e",
   "metadata": {},
   "source": [
    "sent_id = GUM_academic_art-10\n",
    "# s_prominence = 4\n",
    "# s_type = decl\n",
    "# transition = zero\n",
    "# text = The viewing experience of art is a complex one, involving issues of perception, attention, memory, decision-making, affect, and emotion.\n",
    "1\tThe\tthe\tDET\tDT\tDefinite=Def|PronType=Art\t3\tdet\t3:det\tDiscourse=explanation-justify:10->12:2|Entity=(27-abstract-new-cf1-3-coref\n",
    "2\tviewing\tviewing\tNOUN\tNN\tNumber=Sing\t3\tcompound\t3:compound\tEntity=(28-event-new-cf10-1-sgl)\n",
    "3\texperience\texperience\tNOUN\tNN\tNumber=Sing\t9\tnsubj\t9:nsubj\t_\n",
    "4\tof\tof\tADP\tIN\t_\t5\tcase\t5:case\t_\n",
    "5\tart\tart\tNOUN\tNN\tNumber=Sing\t3\tnmod\t3:nmod:of\tEntity=(20-abstract-giv:inact-cf2-1-coref)27)\n",
    "6\tis\tbe\tAUX\tVBZ\tMood=Ind|Number=Sing|Person=3|Tense=Pres|VerbForm=Fin\t9\tcop\t9:cop\t_\n",
    "7\ta\ta\tDET\tDT\tDefinite=Ind|PronType=Art\t9\tdet\t9:det\tEntity=(27-abstract-giv:act-cf1-3-pred\n",
    "8\tcomplex\tcomplex\tADJ\tJJ\tDegree=Pos\t9\tamod\t9:amod\t_\n",
    "9\tone\tone\tNOUN\tNN\tNumber=Sing\t0\troot\t0:root\tSpaceAfter=No\n",
    "10\t,\t,\tPUNCT\t,\t_\t11\tpunct\t11:punct\t_\n",
    "11\tinvolving\tinvolve\tVERB\tVBG\tVerbForm=Ger\t9\tacl\t9:acl\tDiscourse=elaboration-attribute:11->10:0\n",
    "12\tissues\tissue\tNOUN\tNNS\tNumber=Plur\t11\tobj\t11:obj\tEntity=(29-abstract-new-cf3-1-sgl\n",
    "13\tof\tof\tADP\tIN\t_\t14\tcase\t14:case\t_\n",
    "14\tperception\tperception\tNOUN\tNN\tNumber=Sing\t12\tnmod\t12:nmod:of\tEntity=(30-abstract-new-cf4-1-sgl)|SpaceAfter=No\n",
    "15\t,\t,\tPUNCT\t,\t_\t16\tpunct\t16:punct\t_\n",
    "16\tattention\tattention\tNOUN\tNN\tNumber=Sing\t14\tconj\t12:nmod:of|14:conj:and\tEntity=(31-abstract-new-cf5-1-sgl)|SpaceAfter=No\n",
    "17\t,\t,\tPUNCT\t,\t_\t18\tpunct\t18:punct\t_\n",
    "18\tmemory\tmemory\tNOUN\tNN\tNumber=Sing\t14\tconj\t12:nmod:of|14:conj:and\tEntity=(32-abstract-new-cf6-1-sgl)|SpaceAfter=No\n",
    "19\t,\t,\tPUNCT\t,\t_\t20\tpunct\t20:punct\t_\n",
    "20\tdecision\tdecision\tNOUN\tNN\tNumber=Sing\t22\tcompound\t22:compound\tEntity=(33-abstract-new-cf9-3-sgl|SpaceAfter=No|XML=<w>\n",
    "21\t-\t-\tPUNCT\tHYPH\t_\t20\tpunct\t20:punct\tSpaceAfter=No\n",
    "22\tmaking\tmake\tVERB\tVBG\tVerbForm=Ger\t14\tconj\t12:nmod:of|14:conj:and\tEntity=33)|SpaceAfter=No|XML=</w>\n",
    "23\t,\t,\tPUNCT\t,\t_\t24\tpunct\t24:punct\t_\n",
    "24\taffect\taffect\tNOUN\tNN\tNumber=Sing\t14\tconj\t12:nmod:of|14:conj:and\tEntity=(34-abstract-new-cf7-1-sgl)|SpaceAfter=No\n",
    "25\t,\t,\tPUNCT\t,\t_\t27\tpunct\t27:punct\t_\n",
    "26\tand\tand\tCCONJ\tCC\t_\t27\tcc\t27:cc\t_\n",
    "27\temotion\temotion\tNOUN\tNN\tNumber=Sing\t14\tconj\t12:nmod:of|14:conj:and\tEntity=(35-abstract-new-cf8-1-sgl)29)27)|SpaceAfter=No\n",
    "28\t.\t.\tPUNCT\t.\t_\t9\tpunct\t9:punct\t_"
   ]
  },
  {
   "cell_type": "markdown",
   "id": "ec57a7eb-c226-47f6-a632-7ece6b389802",
   "metadata": {},
   "source": [
    "The next step was to make a table to display the relevant information in a clear manner. To do so, we created a dictionary with all of the information. After, we converted it into a dataframe using 'pandas':"
   ]
  },
  {
   "cell_type": "code",
   "execution_count": 1,
   "id": "404fd9a6-80d6-49e9-b823-a4d811fcc516",
   "metadata": {},
   "outputs": [
    {
     "data": {
      "text/html": [
       "<div>\n",
       "<style scoped>\n",
       "    .dataframe tbody tr th:only-of-type {\n",
       "        vertical-align: middle;\n",
       "    }\n",
       "\n",
       "    .dataframe tbody tr th {\n",
       "        vertical-align: top;\n",
       "    }\n",
       "\n",
       "    .dataframe thead th {\n",
       "        text-align: right;\n",
       "    }\n",
       "</style>\n",
       "<table border=\"1\" class=\"dataframe\">\n",
       "  <thead>\n",
       "    <tr style=\"text-align: right;\">\n",
       "      <th></th>\n",
       "      <th>Word</th>\n",
       "      <th>POS</th>\n",
       "      <th>Dependency label</th>\n",
       "      <th>Head</th>\n",
       "    </tr>\n",
       "  </thead>\n",
       "  <tbody>\n",
       "    <tr>\n",
       "      <th>0</th>\n",
       "      <td>the</td>\n",
       "      <td>DET</td>\n",
       "      <td>det</td>\n",
       "      <td>experience</td>\n",
       "    </tr>\n",
       "    <tr>\n",
       "      <th>1</th>\n",
       "      <td>viewing</td>\n",
       "      <td>NOUN</td>\n",
       "      <td>compound</td>\n",
       "      <td>experience</td>\n",
       "    </tr>\n",
       "    <tr>\n",
       "      <th>2</th>\n",
       "      <td>experience</td>\n",
       "      <td>NOUN</td>\n",
       "      <td>nsubj</td>\n",
       "      <td>one</td>\n",
       "    </tr>\n",
       "    <tr>\n",
       "      <th>3</th>\n",
       "      <td>of</td>\n",
       "      <td>ADP</td>\n",
       "      <td>case</td>\n",
       "      <td>art</td>\n",
       "    </tr>\n",
       "    <tr>\n",
       "      <th>4</th>\n",
       "      <td>art</td>\n",
       "      <td>NOUN</td>\n",
       "      <td>nmod</td>\n",
       "      <td>experience</td>\n",
       "    </tr>\n",
       "    <tr>\n",
       "      <th>5</th>\n",
       "      <td>is</td>\n",
       "      <td>AUX</td>\n",
       "      <td>cop</td>\n",
       "      <td>one</td>\n",
       "    </tr>\n",
       "    <tr>\n",
       "      <th>6</th>\n",
       "      <td>a</td>\n",
       "      <td>DET</td>\n",
       "      <td>det</td>\n",
       "      <td>one</td>\n",
       "    </tr>\n",
       "    <tr>\n",
       "      <th>7</th>\n",
       "      <td>complex</td>\n",
       "      <td>ADJ</td>\n",
       "      <td>amod</td>\n",
       "      <td>one</td>\n",
       "    </tr>\n",
       "    <tr>\n",
       "      <th>8</th>\n",
       "      <td>one</td>\n",
       "      <td>NOUN</td>\n",
       "      <td>root</td>\n",
       "      <td>root</td>\n",
       "    </tr>\n",
       "    <tr>\n",
       "      <th>9</th>\n",
       "      <td>,</td>\n",
       "      <td>PUNCT</td>\n",
       "      <td>punct</td>\n",
       "      <td>involving</td>\n",
       "    </tr>\n",
       "    <tr>\n",
       "      <th>10</th>\n",
       "      <td>involving</td>\n",
       "      <td>VERB</td>\n",
       "      <td>acl</td>\n",
       "      <td>one</td>\n",
       "    </tr>\n",
       "    <tr>\n",
       "      <th>11</th>\n",
       "      <td>issues</td>\n",
       "      <td>NOUN</td>\n",
       "      <td>dobj</td>\n",
       "      <td>involving</td>\n",
       "    </tr>\n",
       "    <tr>\n",
       "      <th>12</th>\n",
       "      <td>of</td>\n",
       "      <td>ADP</td>\n",
       "      <td>case</td>\n",
       "      <td>perception</td>\n",
       "    </tr>\n",
       "    <tr>\n",
       "      <th>13</th>\n",
       "      <td>perception</td>\n",
       "      <td>NOUN</td>\n",
       "      <td>nmod</td>\n",
       "      <td>issues</td>\n",
       "    </tr>\n",
       "    <tr>\n",
       "      <th>14</th>\n",
       "      <td>,</td>\n",
       "      <td>PUNCT</td>\n",
       "      <td>punct</td>\n",
       "      <td>attention</td>\n",
       "    </tr>\n",
       "    <tr>\n",
       "      <th>15</th>\n",
       "      <td>attention</td>\n",
       "      <td>NOUN</td>\n",
       "      <td>conj</td>\n",
       "      <td>perception</td>\n",
       "    </tr>\n",
       "    <tr>\n",
       "      <th>16</th>\n",
       "      <td>,</td>\n",
       "      <td>PUNCT</td>\n",
       "      <td>punct</td>\n",
       "      <td>memory</td>\n",
       "    </tr>\n",
       "    <tr>\n",
       "      <th>17</th>\n",
       "      <td>memory</td>\n",
       "      <td>NOUN</td>\n",
       "      <td>conj</td>\n",
       "      <td>perception</td>\n",
       "    </tr>\n",
       "    <tr>\n",
       "      <th>18</th>\n",
       "      <td>,</td>\n",
       "      <td>PUNCT</td>\n",
       "      <td>punct</td>\n",
       "      <td>decision</td>\n",
       "    </tr>\n",
       "    <tr>\n",
       "      <th>19</th>\n",
       "      <td>decision</td>\n",
       "      <td>NOUN</td>\n",
       "      <td>conj</td>\n",
       "      <td>making</td>\n",
       "    </tr>\n",
       "    <tr>\n",
       "      <th>20</th>\n",
       "      <td>-</td>\n",
       "      <td>-</td>\n",
       "      <td>punct</td>\n",
       "      <td>decision</td>\n",
       "    </tr>\n",
       "    <tr>\n",
       "      <th>21</th>\n",
       "      <td>making</td>\n",
       "      <td>VERB</td>\n",
       "      <td>compund</td>\n",
       "      <td>perception</td>\n",
       "    </tr>\n",
       "    <tr>\n",
       "      <th>22</th>\n",
       "      <td>,</td>\n",
       "      <td>PUNCT</td>\n",
       "      <td>punct</td>\n",
       "      <td>affect</td>\n",
       "    </tr>\n",
       "    <tr>\n",
       "      <th>23</th>\n",
       "      <td>affect</td>\n",
       "      <td>NOUN</td>\n",
       "      <td>compound</td>\n",
       "      <td>perception</td>\n",
       "    </tr>\n",
       "    <tr>\n",
       "      <th>24</th>\n",
       "      <td>,</td>\n",
       "      <td>PUNCT</td>\n",
       "      <td>punct</td>\n",
       "      <td>emotion</td>\n",
       "    </tr>\n",
       "    <tr>\n",
       "      <th>25</th>\n",
       "      <td>and</td>\n",
       "      <td>CCONJ</td>\n",
       "      <td>cc</td>\n",
       "      <td>emotion</td>\n",
       "    </tr>\n",
       "    <tr>\n",
       "      <th>26</th>\n",
       "      <td>emotion</td>\n",
       "      <td>NOUN</td>\n",
       "      <td>conj</td>\n",
       "      <td>perception</td>\n",
       "    </tr>\n",
       "    <tr>\n",
       "      <th>27</th>\n",
       "      <td>.</td>\n",
       "      <td>PUNCT</td>\n",
       "      <td>punct</td>\n",
       "      <td>one</td>\n",
       "    </tr>\n",
       "  </tbody>\n",
       "</table>\n",
       "</div>"
      ],
      "text/plain": [
       "          Word    POS Dependency label        Head\n",
       "0          the    DET              det  experience\n",
       "1      viewing   NOUN         compound  experience\n",
       "2   experience   NOUN            nsubj         one\n",
       "3           of    ADP             case         art\n",
       "4          art   NOUN             nmod  experience\n",
       "5           is    AUX              cop         one\n",
       "6            a    DET              det         one\n",
       "7      complex    ADJ             amod         one\n",
       "8          one   NOUN             root        root\n",
       "9            ,  PUNCT            punct   involving\n",
       "10   involving   VERB              acl         one\n",
       "11      issues   NOUN             dobj   involving\n",
       "12          of    ADP             case  perception\n",
       "13  perception   NOUN             nmod      issues\n",
       "14           ,  PUNCT            punct   attention\n",
       "15   attention   NOUN             conj  perception\n",
       "16           ,  PUNCT            punct      memory\n",
       "17      memory   NOUN             conj  perception\n",
       "18           ,  PUNCT            punct    decision\n",
       "19    decision   NOUN             conj      making\n",
       "20           -      -            punct    decision\n",
       "21      making   VERB          compund  perception\n",
       "22           ,  PUNCT            punct      affect\n",
       "23      affect   NOUN         compound  perception\n",
       "24           ,  PUNCT            punct     emotion\n",
       "25         and  CCONJ               cc     emotion\n",
       "26     emotion   NOUN             conj  perception\n",
       "27           .  PUNCT            punct         one"
      ]
     },
     "metadata": {},
     "output_type": "display_data"
    }
   ],
   "source": [
    "import pandas as pd\n",
    "data_english_UD = {'Word':['the', 'viewing', 'experience', 'of','art','is', 'a','complex','one',',', 'involving', 'issues', 'of', 'perception', ',', 'attention', ',', 'memory', ',', 'decision','-', 'making', ',', 'affect', ',', 'and', 'emotion', '.'],\n",
    "        'POS':['DET','NOUN' ,'NOUN','ADP','NOUN', 'AUX', 'DET', 'ADJ', 'NOUN', 'PUNCT', 'VERB', 'NOUN', 'ADP', 'NOUN', 'PUNCT', 'NOUN', 'PUNCT','NOUN', 'PUNCT', 'NOUN','-', 'VERB','PUNCT', 'NOUN','PUNCT', 'CCONJ','NOUN','PUNCT' ],\n",
    "        'Dependency label':['det', 'compound', 'nsubj', 'case', 'nmod', 'cop', 'det', 'amod','root', 'punct', 'acl', 'dobj', 'case', 'nmod','punct','conj', 'punct', 'conj', 'punct','conj','punct', 'compund', 'punct', 'compound','punct', 'cc', 'conj','punct'],\n",
    "        'Head': ['experience','experience','one','art','experience','one','one','one','root','involving','one','involving','perception','issues','attention','perception','memory','perception','decision','making','decision','perception','affect','perception','emotion','emotion','perception','one']\n",
    "        }\n",
    "df = pd.DataFrame(data_english_UD)\n",
    "display(df)"
   ]
  },
  {
   "cell_type": "markdown",
   "id": "cf080654-f24d-48cd-a21a-b7d92d97b811",
   "metadata": {},
   "source": [
    "### CATALAN SAMPLE - UNIVERSAL DEPENDENCIES TREEBANK"
   ]
  },
  {
   "cell_type": "markdown",
   "id": "61ca6c01-c357-4535-a428-b947ce40d498",
   "metadata": {},
   "source": [
    "We got our Catalan sample from the AnCora repository. We got our text from the ‘en_gum-ud-test.conllu’ dataset, which led us to a raw file with samples and annotations. We selected the following text:\n",
    "\n",
    "\"Segons aquest informe, el pes d'aquestes empreses com a mitjanceres de la contractació va ser l'any 2000 el més baix dels darrers tres anys, amb la formalització de 1.782 contractes, un 19,4 per cent del total.\"\n",
    "\n",
    "All the annotated information associated to it was the follwing:"
   ]
  },
  {
   "cell_type": "raw",
   "id": "b669ed2a-2105-4a4b-bcb5-f4e1511efb0b",
   "metadata": {},
   "source": [
    "# sent_id = 3LB-CAT-06010100-16-s2\n",
    "# text = Segons aquest informe, el pes d'aquestes empreses com a mitjanceres de la contractació va ser l'any 2000 el més baix dels darrers tres anys, amb la formalització de 1.782 contractes, un 19,4 per cent del total.\n",
    "# orig_file_sentence 001#2\n",
    "1\tSegons\tsegons\tADP\tsps00\t_\t3\tcase\t3:case\t_\n",
    "2\taquest\taquest\tDET\tdd0ms0\tGender=Masc|Number=Sing|PronType=Dem\t3\tdet\t3:det\t_\n",
    "3\tinforme\tinforme\tNOUN\tncms000\tGender=Masc|Number=Sing\t23\tobl\t23:obl\tSpaceAfter=No\n",
    "4\t,\t,\tPUNCT\tfc\tPunctType=Comm\t3\tpunct\t3:punct\t_\n",
    "5\tel\tel\tDET\tda0ms0\tDefinite=Def|Gender=Masc|Number=Sing|PronType=Art\t6\tdet\t6:det\t_\n",
    "6\tpes\tpes\tNOUN\tncms000\tGender=Masc|Number=Sing\t23\tnsubj\t23:nsubj\t_\n",
    "7\td'\tde\tADP\tsps00\t_\t9\tcase\t9:case\tSpaceAfter=No\n",
    "8\taquestes\taquest\tDET\tdd0fp0\tGender=Fem|Number=Plur|PronType=Dem\t9\tdet\t9:det\t_\n",
    "9\tempreses\tempresa\tNOUN\tncfp000\tGender=Fem|Number=Plur\t6\tnmod\t6:nmod\t_\n",
    "10\tcom\tcom\tSCONJ\tsps00\t_\t12\tcase\t12:case\tMWE=com_a|MWEPOS=ADP\n",
    "11\ta\ta\tADP\t_\t_\t10\tfixed\t10:fixed\t_\n",
    "12\tmitjanceres\tmitjancera\tNOUN\tncfp000\tGender=Fem|Number=Plur\t9\tnmod\t9:nmod\t_\n",
    "13\tde\tde\tADP\tsps00\t_\t15\tcase\t15:case\t_\n",
    "14\tla\tel\tDET\tda0fs0\tDefinite=Def|Gender=Fem|Number=Sing|PronType=Art\t15\tdet\t15:det\t_\n",
    "15\tcontractació\tcontractació\tNOUN\tncfs000\tGender=Fem|Number=Sing\t12\tnmod\t12:nmod\t_\n",
    "16\tva\tanar\tAUX\tvaip3s0\tMood=Ind|Number=Sing|Person=3|Tense=Pres|VerbForm=Fin\t23\taux\t23:aux\t_\n",
    "17\tser\tser\tAUX\tvmn0000\tVerbForm=Inf\t23\tcop\t23:cop\t_\n",
    "18\tl'\tel\tDET\tda0cs0\tDefinite=Def|Number=Sing|PronType=Art\t19\tdet\t19:det\tSpaceAfter=No|Entity=(3LBCAT0601010016s2.sn.41-time-2-gstype:spec\n",
    "19\tany\tany\tNOUN\t_\t_\t23\tobl\t23:obl\tMWE=any_2000|MWEPOS=NOUN\n",
    "20\t2000\t2000\tNUM\t_\tNumForm=Digit|NumType=Card\t19\tcompound\t19:compound\tEntity=3LBCAT0601010016s2.sn.41)\n",
    "21\tel\tel\tDET\tda0ms0\tDefinite=Def|Gender=Masc|Number=Sing|PronType=Art\t23\tdet\t23:det\t_\n",
    "22\tmés\tmés\tADV\trg\tDegree=Cmp\t23\tadvmod\t23:advmod\t_\n",
    "23\tbaix\tbaix\tADJ\taq0ms0\tGender=Masc|Number=Sing\t0\troot\t0:root\t_\n",
    "24-25\tdels\t_\t_\t_\t_\t_\t_\t_\t_\n",
    "24\tde\tde\tADP\tspcmp\t_\t28\tcase\t28:case\t_\n",
    "25\tels\tel\tDET\t_\tDefinite=Def|Gender=Masc|Number=Plur|PronType=Art\t28\tdet\t28:det\t_\n",
    "26\tdarrers\tdarrer\tADJ\tao0mp0\tGender=Masc|Number=Plur|NumType=Ord\t27\tamod\t27:amod\t_\n",
    "27\ttres\ttres\tNUM\tdn0cp0\tNumber=Plur|NumType=Card\t28\tnummod\t28:nummod\t_\n",
    "28\tanys\tany\tNOUN\tncmp000\tGender=Masc|Number=Plur\t23\tnmod\t23:nmod\tSpaceAfter=No\n",
    "29\t,\t,\tPUNCT\tfc\tPunctType=Comm\t32\tpunct\t32:punct\t_\n",
    "30\tamb\tamb\tADP\tsps00\t_\t32\tcase\t32:case\t_\n",
    "31\tla\tel\tDET\tda0fs0\tDefinite=Def|Gender=Fem|Number=Sing|PronType=Art\t32\tdet\t32:det\t_\n",
    "32\tformalització\tformalització\tNOUN\tncfs000\tGender=Fem|Number=Sing\t23\tobl\t23:obl\t_\n",
    "33\tde\tde\tADP\tsps00\t_\t35\tcase\t35:case\t_\n",
    "34\t1.782\t1782\tNUM\t_\tNumForm=Digit|NumType=Card\t35\tnummod\t35:nummod\t_\n",
    "35\tcontractes\tcontracte\tNOUN\tncmp000\tGender=Masc|Number=Plur\t32\tnmod\t32:nmod\tSpaceAfter=No\n",
    "36\t,\t,\tPUNCT\tfc\tPunctType=Comm\t38\tpunct\t38:punct\tEntity=(3LBCAT0601010016s2.sn.82-number-3-gstype:spec\n",
    "37\tun\tun\tPRON\tdi0ms0\tGender=Masc|Number=Sing|PronType=Ind\t38\tnmod\t38:nmod\t_\n",
    "38\t19,4\t19,4\tNUM\tzp\tNumForm=Digit|NumType=Card\t35\tappos\t35:appos\tMWE=19,4_per_cent|MWEPOS=NUM\n",
    "39\tper\tper\tADP\t_\t_\t40\tcase\t40:case\t_\n",
    "40\tcent\tcent\tNUM\t_\tNumType=Card\t38\tcompound\t38:compound\t_\n",
    "41-42\tdel\t_\t_\t_\t_\t_\t_\t_\t_\n",
    "41\tde\tde\tADP\tspcms\t_\t43\tcase\t43:case\t_\n",
    "42\tel\tel\tDET\t_\tDefinite=Def|Gender=Masc|Number=Sing|PronType=Art\t43\tdet\t43:det\t_\n",
    "43\ttotal\ttotal\tNOUN\tncms000\tGender=Masc|Number=Sing\t38\tnmod\t38:nmod\tSpaceAfter=No|Entity=3LBCAT0601010016s2.sn.82)\n",
    "44\t.\t.\tPUNCT\tfp\tPunctType=Peri\t23\tpunct\t23:punct\t_"
   ]
  },
  {
   "cell_type": "markdown",
   "id": "0508a467-cd47-40f5-8565-9137d074a296",
   "metadata": {},
   "source": [
    "As in the English sample, the next step was to make a table to display the relevant information in a clear manner. To do so, we created a dictionary with all of the information. After that, we converted it into a dataframe using 'pandas':"
   ]
  },
  {
   "cell_type": "code",
   "execution_count": 2,
   "id": "3f4770b0-927a-42ba-b394-e3361890bb26",
   "metadata": {},
   "outputs": [
    {
     "data": {
      "text/html": [
       "<div>\n",
       "<style scoped>\n",
       "    .dataframe tbody tr th:only-of-type {\n",
       "        vertical-align: middle;\n",
       "    }\n",
       "\n",
       "    .dataframe tbody tr th {\n",
       "        vertical-align: top;\n",
       "    }\n",
       "\n",
       "    .dataframe thead th {\n",
       "        text-align: right;\n",
       "    }\n",
       "</style>\n",
       "<table border=\"1\" class=\"dataframe\">\n",
       "  <thead>\n",
       "    <tr style=\"text-align: right;\">\n",
       "      <th></th>\n",
       "      <th>Word</th>\n",
       "      <th>POS</th>\n",
       "      <th>Dependency label</th>\n",
       "      <th>Head</th>\n",
       "    </tr>\n",
       "  </thead>\n",
       "  <tbody>\n",
       "    <tr>\n",
       "      <th>0</th>\n",
       "      <td>Segons</td>\n",
       "      <td>ADP</td>\n",
       "      <td>case</td>\n",
       "      <td>informe</td>\n",
       "    </tr>\n",
       "    <tr>\n",
       "      <th>1</th>\n",
       "      <td>aquest</td>\n",
       "      <td>DET</td>\n",
       "      <td>det</td>\n",
       "      <td>informe</td>\n",
       "    </tr>\n",
       "    <tr>\n",
       "      <th>2</th>\n",
       "      <td>informe</td>\n",
       "      <td>NOUN</td>\n",
       "      <td>obl</td>\n",
       "      <td>baix</td>\n",
       "    </tr>\n",
       "    <tr>\n",
       "      <th>3</th>\n",
       "      <td>,</td>\n",
       "      <td>PUNCT</td>\n",
       "      <td>punct</td>\n",
       "      <td>informe</td>\n",
       "    </tr>\n",
       "    <tr>\n",
       "      <th>4</th>\n",
       "      <td>el</td>\n",
       "      <td>DET</td>\n",
       "      <td>det</td>\n",
       "      <td>pes</td>\n",
       "    </tr>\n",
       "    <tr>\n",
       "      <th>5</th>\n",
       "      <td>pes</td>\n",
       "      <td>NOUN</td>\n",
       "      <td>nsubj</td>\n",
       "      <td>baix</td>\n",
       "    </tr>\n",
       "    <tr>\n",
       "      <th>6</th>\n",
       "      <td>d'</td>\n",
       "      <td>ADP</td>\n",
       "      <td>case</td>\n",
       "      <td>empreses</td>\n",
       "    </tr>\n",
       "    <tr>\n",
       "      <th>7</th>\n",
       "      <td>aquestes</td>\n",
       "      <td>DET</td>\n",
       "      <td>det</td>\n",
       "      <td>empreses</td>\n",
       "    </tr>\n",
       "    <tr>\n",
       "      <th>8</th>\n",
       "      <td>empreses</td>\n",
       "      <td>NOUN</td>\n",
       "      <td>nmod</td>\n",
       "      <td>pes</td>\n",
       "    </tr>\n",
       "    <tr>\n",
       "      <th>9</th>\n",
       "      <td>com</td>\n",
       "      <td>SCONJ</td>\n",
       "      <td>case</td>\n",
       "      <td>mitjanceres</td>\n",
       "    </tr>\n",
       "    <tr>\n",
       "      <th>10</th>\n",
       "      <td>a</td>\n",
       "      <td>ADP</td>\n",
       "      <td>fixed</td>\n",
       "      <td>com</td>\n",
       "    </tr>\n",
       "    <tr>\n",
       "      <th>11</th>\n",
       "      <td>mitjanceres</td>\n",
       "      <td>NOUN</td>\n",
       "      <td>nmod</td>\n",
       "      <td>empreses</td>\n",
       "    </tr>\n",
       "    <tr>\n",
       "      <th>12</th>\n",
       "      <td>de</td>\n",
       "      <td>ADP</td>\n",
       "      <td>case</td>\n",
       "      <td>contractació</td>\n",
       "    </tr>\n",
       "    <tr>\n",
       "      <th>13</th>\n",
       "      <td>la</td>\n",
       "      <td>DET</td>\n",
       "      <td>det</td>\n",
       "      <td>conatractació</td>\n",
       "    </tr>\n",
       "    <tr>\n",
       "      <th>14</th>\n",
       "      <td>contractació</td>\n",
       "      <td>NOUN</td>\n",
       "      <td>nmod</td>\n",
       "      <td>mitjanceres</td>\n",
       "    </tr>\n",
       "    <tr>\n",
       "      <th>15</th>\n",
       "      <td>va</td>\n",
       "      <td>AUX</td>\n",
       "      <td>aux</td>\n",
       "      <td>baix</td>\n",
       "    </tr>\n",
       "    <tr>\n",
       "      <th>16</th>\n",
       "      <td>ser</td>\n",
       "      <td>AUX</td>\n",
       "      <td>cop</td>\n",
       "      <td>baix</td>\n",
       "    </tr>\n",
       "    <tr>\n",
       "      <th>17</th>\n",
       "      <td>l'</td>\n",
       "      <td>DET</td>\n",
       "      <td>det</td>\n",
       "      <td>any</td>\n",
       "    </tr>\n",
       "    <tr>\n",
       "      <th>18</th>\n",
       "      <td>any</td>\n",
       "      <td>NOUN</td>\n",
       "      <td>obl</td>\n",
       "      <td>baix</td>\n",
       "    </tr>\n",
       "    <tr>\n",
       "      <th>19</th>\n",
       "      <td>2000</td>\n",
       "      <td>NUM</td>\n",
       "      <td>compound entity</td>\n",
       "      <td>any</td>\n",
       "    </tr>\n",
       "    <tr>\n",
       "      <th>20</th>\n",
       "      <td>el</td>\n",
       "      <td>DET</td>\n",
       "      <td>det</td>\n",
       "      <td>baix</td>\n",
       "    </tr>\n",
       "    <tr>\n",
       "      <th>21</th>\n",
       "      <td>més</td>\n",
       "      <td>ADV</td>\n",
       "      <td>advmod</td>\n",
       "      <td>baix</td>\n",
       "    </tr>\n",
       "    <tr>\n",
       "      <th>22</th>\n",
       "      <td>baix</td>\n",
       "      <td>ADJ</td>\n",
       "      <td>root</td>\n",
       "      <td>0</td>\n",
       "    </tr>\n",
       "    <tr>\n",
       "      <th>23</th>\n",
       "      <td>de</td>\n",
       "      <td>ADP</td>\n",
       "      <td>case</td>\n",
       "      <td>anys</td>\n",
       "    </tr>\n",
       "    <tr>\n",
       "      <th>24</th>\n",
       "      <td>els</td>\n",
       "      <td>DET</td>\n",
       "      <td>det</td>\n",
       "      <td>anys</td>\n",
       "    </tr>\n",
       "    <tr>\n",
       "      <th>25</th>\n",
       "      <td>darrers</td>\n",
       "      <td>ADJ</td>\n",
       "      <td>amod</td>\n",
       "      <td>tres</td>\n",
       "    </tr>\n",
       "    <tr>\n",
       "      <th>26</th>\n",
       "      <td>tres</td>\n",
       "      <td>NUM</td>\n",
       "      <td>nummod</td>\n",
       "      <td>anys</td>\n",
       "    </tr>\n",
       "    <tr>\n",
       "      <th>27</th>\n",
       "      <td>anys</td>\n",
       "      <td>NOUN</td>\n",
       "      <td>nmod</td>\n",
       "      <td>baix</td>\n",
       "    </tr>\n",
       "    <tr>\n",
       "      <th>28</th>\n",
       "      <td>,</td>\n",
       "      <td>PUNCT</td>\n",
       "      <td>punct</td>\n",
       "      <td>formalització</td>\n",
       "    </tr>\n",
       "    <tr>\n",
       "      <th>29</th>\n",
       "      <td>amb</td>\n",
       "      <td>ADP</td>\n",
       "      <td>case</td>\n",
       "      <td>formalització</td>\n",
       "    </tr>\n",
       "    <tr>\n",
       "      <th>30</th>\n",
       "      <td>la</td>\n",
       "      <td>DET</td>\n",
       "      <td>det</td>\n",
       "      <td>formalització</td>\n",
       "    </tr>\n",
       "    <tr>\n",
       "      <th>31</th>\n",
       "      <td>formalització</td>\n",
       "      <td>NOUN</td>\n",
       "      <td>obl</td>\n",
       "      <td>baix</td>\n",
       "    </tr>\n",
       "    <tr>\n",
       "      <th>32</th>\n",
       "      <td>de</td>\n",
       "      <td>ADP</td>\n",
       "      <td>case</td>\n",
       "      <td>contractes</td>\n",
       "    </tr>\n",
       "    <tr>\n",
       "      <th>33</th>\n",
       "      <td>1782</td>\n",
       "      <td>NUM</td>\n",
       "      <td>nummod</td>\n",
       "      <td>contractes</td>\n",
       "    </tr>\n",
       "    <tr>\n",
       "      <th>34</th>\n",
       "      <td>contractes</td>\n",
       "      <td>NOUN</td>\n",
       "      <td>nmod</td>\n",
       "      <td>formalització</td>\n",
       "    </tr>\n",
       "    <tr>\n",
       "      <th>35</th>\n",
       "      <td>,</td>\n",
       "      <td>PUNCT</td>\n",
       "      <td>punct</td>\n",
       "      <td>19,4</td>\n",
       "    </tr>\n",
       "    <tr>\n",
       "      <th>36</th>\n",
       "      <td>un</td>\n",
       "      <td>PRON</td>\n",
       "      <td>nmod</td>\n",
       "      <td>19,4</td>\n",
       "    </tr>\n",
       "    <tr>\n",
       "      <th>37</th>\n",
       "      <td>19,4</td>\n",
       "      <td>NUM</td>\n",
       "      <td>appos</td>\n",
       "      <td>contractes</td>\n",
       "    </tr>\n",
       "    <tr>\n",
       "      <th>38</th>\n",
       "      <td>per</td>\n",
       "      <td>ADP</td>\n",
       "      <td>case</td>\n",
       "      <td>cent</td>\n",
       "    </tr>\n",
       "    <tr>\n",
       "      <th>39</th>\n",
       "      <td>cent</td>\n",
       "      <td>NUM</td>\n",
       "      <td>compound</td>\n",
       "      <td>19,4</td>\n",
       "    </tr>\n",
       "    <tr>\n",
       "      <th>40</th>\n",
       "      <td>de</td>\n",
       "      <td>ADP</td>\n",
       "      <td>case</td>\n",
       "      <td>total</td>\n",
       "    </tr>\n",
       "    <tr>\n",
       "      <th>41</th>\n",
       "      <td>el</td>\n",
       "      <td>DET</td>\n",
       "      <td>det</td>\n",
       "      <td>total</td>\n",
       "    </tr>\n",
       "    <tr>\n",
       "      <th>42</th>\n",
       "      <td>total</td>\n",
       "      <td>NOUN</td>\n",
       "      <td>nmod</td>\n",
       "      <td>19,4</td>\n",
       "    </tr>\n",
       "    <tr>\n",
       "      <th>43</th>\n",
       "      <td>.</td>\n",
       "      <td>PUNCT</td>\n",
       "      <td>punct</td>\n",
       "      <td>baix</td>\n",
       "    </tr>\n",
       "  </tbody>\n",
       "</table>\n",
       "</div>"
      ],
      "text/plain": [
       "             Word    POS Dependency label           Head\n",
       "0          Segons    ADP             case        informe\n",
       "1          aquest    DET              det        informe\n",
       "2         informe   NOUN              obl           baix\n",
       "3               ,  PUNCT            punct        informe\n",
       "4              el    DET              det            pes\n",
       "5             pes   NOUN            nsubj           baix\n",
       "6              d'    ADP             case       empreses\n",
       "7        aquestes    DET              det       empreses\n",
       "8        empreses   NOUN             nmod            pes\n",
       "9             com  SCONJ             case    mitjanceres\n",
       "10              a    ADP            fixed            com\n",
       "11    mitjanceres   NOUN             nmod       empreses\n",
       "12             de    ADP             case   contractació\n",
       "13             la    DET              det  conatractació\n",
       "14   contractació   NOUN             nmod    mitjanceres\n",
       "15             va    AUX              aux           baix\n",
       "16            ser    AUX              cop           baix\n",
       "17             l'    DET              det            any\n",
       "18            any   NOUN              obl           baix\n",
       "19           2000    NUM  compound entity            any\n",
       "20             el    DET              det           baix\n",
       "21            més    ADV           advmod           baix\n",
       "22           baix    ADJ             root              0\n",
       "23             de    ADP             case           anys\n",
       "24            els    DET              det           anys\n",
       "25        darrers    ADJ             amod           tres\n",
       "26           tres    NUM           nummod           anys\n",
       "27           anys   NOUN             nmod           baix\n",
       "28              ,  PUNCT            punct  formalització\n",
       "29            amb    ADP             case  formalització\n",
       "30             la    DET              det  formalització\n",
       "31  formalització   NOUN              obl           baix\n",
       "32             de    ADP             case     contractes\n",
       "33           1782    NUM           nummod     contractes\n",
       "34     contractes   NOUN             nmod  formalització\n",
       "35              ,  PUNCT            punct           19,4\n",
       "36             un   PRON             nmod           19,4\n",
       "37           19,4    NUM            appos     contractes\n",
       "38            per    ADP             case           cent\n",
       "39           cent    NUM         compound           19,4\n",
       "40             de    ADP             case          total\n",
       "41             el    DET              det          total\n",
       "42          total   NOUN             nmod           19,4\n",
       "43              .  PUNCT            punct           baix"
      ]
     },
     "metadata": {},
     "output_type": "display_data"
    }
   ],
   "source": [
    "import pandas as pd\n",
    "data_catalan_UD = {'Word':['Segons', 'aquest', 'informe', ',', 'el' ,'pes', \"d'\", 'aquestes' ,'empreses', 'com', 'a', 'mitjanceres', 'de', 'la', 'contractació', 'va', 'ser', \"l'\", 'any', '2000', 'el', 'més', 'baix', 'de', 'els', 'darrers', 'tres', 'anys', ',', 'amb', 'la', 'formalització', 'de', '1782', 'contractes', ',', 'un', '19,4', 'per', 'cent', 'de', 'el', 'total', '.'],\n",
    "        'POS':['ADP', 'DET', 'NOUN', 'PUNCT', 'DET', 'NOUN', 'ADP', 'DET', 'NOUN', 'SCONJ', 'ADP', 'NOUN', 'ADP', 'DET', 'NOUN', 'AUX', 'AUX', 'DET', 'NOUN', 'NUM', 'DET', 'ADV', 'ADJ', 'ADP', 'DET', 'ADJ', 'NUM', 'NOUN', 'PUNCT', 'ADP', 'DET', 'NOUN', 'ADP', 'NUM', 'NOUN', 'PUNCT', 'PRON', 'NUM', 'ADP', 'NUM', 'ADP', 'DET', 'NOUN', 'PUNCT'],\n",
    "        'Dependency label' :['case', 'det', 'obl', 'punct', 'det', 'nsubj', 'case', 'det', 'nmod', 'case', 'fixed', 'nmod', 'case', 'det', 'nmod', 'aux', 'cop', 'det', 'obl', 'compound entity', 'det', 'advmod', 'root', 'case', 'det', 'amod', 'nummod', 'nmod', 'punct', 'case', 'det', 'obl', 'case', 'nummod', 'nmod', 'punct', 'nmod', 'appos', 'case', 'compound', 'case', 'det', 'nmod', 'punct'],\n",
    "        'Head' : ['informe', 'informe', 'baix', 'informe', 'pes', 'baix', 'empreses', 'empreses', 'pes', 'mitjanceres', 'com', 'empreses', 'contractació', 'conatractació', 'mitjanceres', 'baix', 'baix', 'any', 'baix', 'any', 'baix', 'baix', '0', 'anys', 'anys', 'tres', 'anys', 'baix', 'formalització', 'formalització', 'formalització', 'baix', 'contractes', 'contractes', 'formalització', '19,4', '19,4', 'contractes', 'cent', '19,4', 'total', 'total', '19,4', 'baix']\n",
    "        }\n",
    "df = pd.DataFrame(data_catalan_UD)\n",
    "display(df)"
   ]
  },
  {
   "cell_type": "markdown",
   "id": "5fb10ca3-f684-4d96-bf19-ee56825af1c0",
   "metadata": {},
   "source": [
    "### SPACY PARSER - ENGLISH"
   ]
  },
  {
   "cell_type": "markdown",
   "id": "6cbf85e4-3928-4e69-a2b1-d6f6bbbbed07",
   "metadata": {},
   "source": [
    "In order to use the spaCy parser, we began importing the spacy library. Then, we loaded the small English pipeline and created a variable to store our English example text. Next, we wrote a 'for' loop to iterate and print the tokenized text with POS, dependency and head."
   ]
  },
  {
   "cell_type": "code",
   "execution_count": 3,
   "id": "f9774404-d01e-42e1-9598-8becfeecf431",
   "metadata": {},
   "outputs": [
    {
     "name": "stdout",
     "output_type": "stream",
     "text": [
      "The DET det experience\n",
      "viewing VERB amod experience\n",
      "experience NOUN nsubj is\n",
      "of ADP prep experience\n",
      "art NOUN pobj of\n",
      "is AUX ROOT is\n",
      "a DET det one\n",
      "complex ADJ amod one\n",
      "one NOUN attr is\n",
      ", PUNCT punct one\n",
      "involving VERB acl one\n",
      "issues NOUN dobj involving\n",
      "of ADP prep issues\n",
      "perception NOUN pobj of\n",
      ", PUNCT punct perception\n",
      "attention NOUN conj perception\n",
      ", PUNCT punct attention\n",
      "memory NOUN conj attention\n",
      ", PUNCT punct memory\n",
      "decision NOUN compound making\n",
      "- PUNCT punct making\n",
      "making NOUN conj memory\n",
      ", PUNCT punct making\n",
      "affect VERB conj making\n",
      ", PUNCT punct affect\n",
      "and CCONJ cc affect\n",
      "emotion NOUN conj affect\n",
      ". PUNCT punct is\n"
     ]
    }
   ],
   "source": [
    "import spacy \n",
    "nlp_en = spacy.load(\"en_core_web_sm\")\n",
    "text_en = \"The viewing experience of art is a complex one, involving issues of perception, attention, memory, decision-making, affect, and emotion.\"\n",
    "doc_en = nlp_en(text_en)\n",
    "for token in doc_en:\n",
    "    print(token.text, token.pos_, token.dep_, token.head)"
   ]
  },
  {
   "cell_type": "markdown",
   "id": "f64ad70c-bc23-4f54-825b-89b74b4b39be",
   "metadata": {},
   "source": [
    "Once more, we wished to put the results from the last lines of code into a dataframe:"
   ]
  },
  {
   "cell_type": "code",
   "execution_count": 4,
   "id": "0de9ba02-336a-4884-940e-7626106a4150",
   "metadata": {},
   "outputs": [
    {
     "data": {
      "text/html": [
       "<div>\n",
       "<style scoped>\n",
       "    .dataframe tbody tr th:only-of-type {\n",
       "        vertical-align: middle;\n",
       "    }\n",
       "\n",
       "    .dataframe tbody tr th {\n",
       "        vertical-align: top;\n",
       "    }\n",
       "\n",
       "    .dataframe thead th {\n",
       "        text-align: right;\n",
       "    }\n",
       "</style>\n",
       "<table border=\"1\" class=\"dataframe\">\n",
       "  <thead>\n",
       "    <tr style=\"text-align: right;\">\n",
       "      <th></th>\n",
       "      <th>Word</th>\n",
       "      <th>POS</th>\n",
       "      <th>Dependency label</th>\n",
       "      <th>Head</th>\n",
       "    </tr>\n",
       "  </thead>\n",
       "  <tbody>\n",
       "    <tr>\n",
       "      <th>0</th>\n",
       "      <td>the</td>\n",
       "      <td>DET</td>\n",
       "      <td>det</td>\n",
       "      <td>experience</td>\n",
       "    </tr>\n",
       "    <tr>\n",
       "      <th>1</th>\n",
       "      <td>viewing</td>\n",
       "      <td>VERB</td>\n",
       "      <td>amod</td>\n",
       "      <td>experience</td>\n",
       "    </tr>\n",
       "    <tr>\n",
       "      <th>2</th>\n",
       "      <td>experience</td>\n",
       "      <td>NOUN</td>\n",
       "      <td>nsubj</td>\n",
       "      <td>is</td>\n",
       "    </tr>\n",
       "    <tr>\n",
       "      <th>3</th>\n",
       "      <td>of</td>\n",
       "      <td>ADP</td>\n",
       "      <td>prep</td>\n",
       "      <td>experience</td>\n",
       "    </tr>\n",
       "    <tr>\n",
       "      <th>4</th>\n",
       "      <td>art</td>\n",
       "      <td>NOUN</td>\n",
       "      <td>pobj</td>\n",
       "      <td>of</td>\n",
       "    </tr>\n",
       "    <tr>\n",
       "      <th>5</th>\n",
       "      <td>is</td>\n",
       "      <td>AUX</td>\n",
       "      <td>root</td>\n",
       "      <td>is</td>\n",
       "    </tr>\n",
       "    <tr>\n",
       "      <th>6</th>\n",
       "      <td>a</td>\n",
       "      <td>DET</td>\n",
       "      <td>det</td>\n",
       "      <td>one</td>\n",
       "    </tr>\n",
       "    <tr>\n",
       "      <th>7</th>\n",
       "      <td>complex</td>\n",
       "      <td>ADJ</td>\n",
       "      <td>amod</td>\n",
       "      <td>one</td>\n",
       "    </tr>\n",
       "    <tr>\n",
       "      <th>8</th>\n",
       "      <td>one</td>\n",
       "      <td>NOUN</td>\n",
       "      <td>attr</td>\n",
       "      <td>is</td>\n",
       "    </tr>\n",
       "    <tr>\n",
       "      <th>9</th>\n",
       "      <td>,</td>\n",
       "      <td>PUNCT</td>\n",
       "      <td>punct</td>\n",
       "      <td>is</td>\n",
       "    </tr>\n",
       "    <tr>\n",
       "      <th>10</th>\n",
       "      <td>involving</td>\n",
       "      <td>VERB</td>\n",
       "      <td>advcl</td>\n",
       "      <td>is</td>\n",
       "    </tr>\n",
       "    <tr>\n",
       "      <th>11</th>\n",
       "      <td>issues</td>\n",
       "      <td>NOUN</td>\n",
       "      <td>dobj</td>\n",
       "      <td>involving</td>\n",
       "    </tr>\n",
       "    <tr>\n",
       "      <th>12</th>\n",
       "      <td>of</td>\n",
       "      <td>ADP</td>\n",
       "      <td>prep</td>\n",
       "      <td>issues</td>\n",
       "    </tr>\n",
       "    <tr>\n",
       "      <th>13</th>\n",
       "      <td>perception</td>\n",
       "      <td>NOUN</td>\n",
       "      <td>pobj</td>\n",
       "      <td>of</td>\n",
       "    </tr>\n",
       "    <tr>\n",
       "      <th>14</th>\n",
       "      <td>,</td>\n",
       "      <td>PUNCT</td>\n",
       "      <td>punct</td>\n",
       "      <td>perception</td>\n",
       "    </tr>\n",
       "    <tr>\n",
       "      <th>15</th>\n",
       "      <td>attention</td>\n",
       "      <td>NOUN</td>\n",
       "      <td>conj</td>\n",
       "      <td>perception</td>\n",
       "    </tr>\n",
       "    <tr>\n",
       "      <th>16</th>\n",
       "      <td>,</td>\n",
       "      <td>PUNCT</td>\n",
       "      <td>punct</td>\n",
       "      <td>attention</td>\n",
       "    </tr>\n",
       "    <tr>\n",
       "      <th>17</th>\n",
       "      <td>memory</td>\n",
       "      <td>NOUN</td>\n",
       "      <td>conj</td>\n",
       "      <td>attention</td>\n",
       "    </tr>\n",
       "    <tr>\n",
       "      <th>18</th>\n",
       "      <td>,</td>\n",
       "      <td>PUNCT</td>\n",
       "      <td>punct</td>\n",
       "      <td>memory</td>\n",
       "    </tr>\n",
       "    <tr>\n",
       "      <th>19</th>\n",
       "      <td>decision</td>\n",
       "      <td>NOUN</td>\n",
       "      <td>compound</td>\n",
       "      <td>making</td>\n",
       "    </tr>\n",
       "    <tr>\n",
       "      <th>20</th>\n",
       "      <td>-</td>\n",
       "      <td>-</td>\n",
       "      <td>punct</td>\n",
       "      <td>making</td>\n",
       "    </tr>\n",
       "    <tr>\n",
       "      <th>21</th>\n",
       "      <td>making</td>\n",
       "      <td>NOUN</td>\n",
       "      <td>conj</td>\n",
       "      <td>memory</td>\n",
       "    </tr>\n",
       "    <tr>\n",
       "      <th>22</th>\n",
       "      <td>,</td>\n",
       "      <td>PUNCT</td>\n",
       "      <td>punct</td>\n",
       "      <td>making</td>\n",
       "    </tr>\n",
       "    <tr>\n",
       "      <th>23</th>\n",
       "      <td>affect</td>\n",
       "      <td>VERB</td>\n",
       "      <td>conj</td>\n",
       "      <td>making</td>\n",
       "    </tr>\n",
       "    <tr>\n",
       "      <th>24</th>\n",
       "      <td>,</td>\n",
       "      <td>PUNCT</td>\n",
       "      <td>punct</td>\n",
       "      <td>affect</td>\n",
       "    </tr>\n",
       "    <tr>\n",
       "      <th>25</th>\n",
       "      <td>and</td>\n",
       "      <td>CCONJ</td>\n",
       "      <td>cc</td>\n",
       "      <td>affect</td>\n",
       "    </tr>\n",
       "    <tr>\n",
       "      <th>26</th>\n",
       "      <td>emotion</td>\n",
       "      <td>NOUN</td>\n",
       "      <td>conj</td>\n",
       "      <td>affect</td>\n",
       "    </tr>\n",
       "    <tr>\n",
       "      <th>27</th>\n",
       "      <td>.</td>\n",
       "      <td>PUNCT</td>\n",
       "      <td>punct</td>\n",
       "      <td>is</td>\n",
       "    </tr>\n",
       "  </tbody>\n",
       "</table>\n",
       "</div>"
      ],
      "text/plain": [
       "          Word    POS Dependency label        Head\n",
       "0          the    DET              det  experience\n",
       "1      viewing   VERB             amod  experience\n",
       "2   experience   NOUN            nsubj          is\n",
       "3           of    ADP             prep  experience\n",
       "4          art   NOUN             pobj          of\n",
       "5           is    AUX             root          is\n",
       "6            a    DET              det         one\n",
       "7      complex    ADJ             amod         one\n",
       "8          one   NOUN             attr          is\n",
       "9            ,  PUNCT            punct          is\n",
       "10   involving   VERB            advcl          is\n",
       "11      issues   NOUN             dobj   involving\n",
       "12          of    ADP             prep      issues\n",
       "13  perception   NOUN             pobj          of\n",
       "14           ,  PUNCT            punct  perception\n",
       "15   attention   NOUN             conj  perception\n",
       "16           ,  PUNCT            punct   attention\n",
       "17      memory   NOUN             conj   attention\n",
       "18           ,  PUNCT            punct      memory\n",
       "19    decision   NOUN         compound      making\n",
       "20           -      -            punct      making\n",
       "21      making   NOUN             conj      memory\n",
       "22           ,  PUNCT            punct      making\n",
       "23      affect   VERB             conj      making\n",
       "24           ,  PUNCT            punct      affect\n",
       "25         and  CCONJ               cc      affect\n",
       "26     emotion   NOUN             conj      affect\n",
       "27           .  PUNCT            punct          is"
      ]
     },
     "metadata": {},
     "output_type": "display_data"
    }
   ],
   "source": [
    "import pandas as pd\n",
    "data_english_spacy = {'Word':['the', 'viewing', 'experience', 'of','art','is', 'a','complex','one',',', 'involving', 'issues', 'of', 'perception', ',', 'attention', ',', 'memory', ',', 'decision','-', 'making', ',', 'affect', ',', 'and', 'emotion', '.'],\n",
    "        'POS':['DET','VERB' ,'NOUN','ADP','NOUN', 'AUX', 'DET', 'ADJ', 'NOUN', 'PUNCT', 'VERB', 'NOUN', 'ADP', 'NOUN', 'PUNCT', 'NOUN', 'PUNCT','NOUN', 'PUNCT', 'NOUN','-', 'NOUN','PUNCT', 'VERB','PUNCT', 'CCONJ','NOUN','PUNCT' ],\n",
    "        'Dependency label':['det', 'amod', 'nsubj', 'prep', 'pobj', 'root', 'det', 'amod','attr', 'punct', 'advcl', 'dobj', 'prep', 'pobj','punct','conj', 'punct', 'conj', 'punct','compound','punct', 'conj', 'punct', 'conj','punct', 'cc', 'conj','punct'],\n",
    "        'Head': ['experience','experience','is','experience','of','is','one','one','is','is','is','involving','issues','of','perception','perception','attention','attention','memory','making','making','memory','making','making','affect','affect','affect', 'is']\n",
    "        }\n",
    "df = pd.DataFrame(data_english_spacy)\n",
    "display(df)"
   ]
  },
  {
   "cell_type": "markdown",
   "id": "5ce57384-355a-49da-9907-15b03b5db687",
   "metadata": {},
   "source": [
    "### SPACY PARSER - CATALAN"
   ]
  },
  {
   "cell_type": "markdown",
   "id": "e4c93099-e3c9-4ca8-8daa-d68d7acdb56f",
   "metadata": {},
   "source": [
    "Like we did previously with the English sample, we first imported the spacy library. Then, we loaded the small Catalan pipeline and created a variable to store our Catalan example text. Next, we wrote a 'for' loop to iterate and print the tokenized text with POS, dependency and head."
   ]
  },
  {
   "cell_type": "code",
   "execution_count": 5,
   "id": "c149639b-28e0-4e2b-b5d4-f66c6fe96e26",
   "metadata": {},
   "outputs": [
    {
     "name": "stdout",
     "output_type": "stream",
     "text": [
      "Segons ADP case informe\n",
      "aquest DET det informe\n",
      "informe NOUN obl baix\n",
      ", PUNCT punct informe\n",
      "el DET det pes\n",
      "pes NOUN nsubj baix\n",
      "d' ADP case empreses\n",
      "aquestes DET det empreses\n",
      "empreses NOUN nmod pes\n",
      "com SCONJ case mitjanceres\n",
      "a ADP fixed com\n",
      "mitjanceres NOUN nmod empreses\n",
      "de ADP case contractació\n",
      "la DET det contractació\n",
      "contractació NOUN nmod mitjanceres\n",
      "va AUX aux baix\n",
      "ser AUX cop baix\n",
      "l' DET det any\n",
      "any NOUN obl baix\n",
      "2000 NUM compound any\n",
      "el DET det baix\n",
      "més ADV advmod baix\n",
      "baix ADJ ROOT baix\n",
      "d ADP case anys\n",
      "els DET det anys\n",
      "darrers ADJ amod tres\n",
      "tres NUM nummod anys\n",
      "anys NOUN nmod baix\n",
      ", PUNCT punct formalització\n",
      "amb ADP case formalització\n",
      "la DET det formalització\n",
      "formalització NOUN obl baix\n",
      "de ADP case contractes\n",
      "1.782 NUM nummod contractes\n",
      "contractes NOUN nmod formalització\n",
      ", PUNCT punct 19,4\n",
      "un PRON nmod 19,4\n",
      "19,4 NUM appos contractes\n",
      "per ADP case cent\n",
      "cent NUM compound 19,4\n",
      "d ADP case total\n",
      "el DET det total\n",
      "total NOUN nmod 19,4\n",
      ". PUNCT punct baix\n"
     ]
    }
   ],
   "source": [
    "nlp_cat = spacy.load(\"ca_core_news_sm\")\n",
    "text_cat = \"Segons aquest informe, el pes d'aquestes empreses com a mitjanceres de la contractació va ser l'any 2000 el més baix dels darrers tres anys, amb la formalització de 1.782 contractes, un 19,4 per cent del total.\"\n",
    "doc_cat = nlp_cat(text_cat)\n",
    "for token in doc_cat:\n",
    "  print(token.text, token.pos_, token.dep_, token.head)"
   ]
  },
  {
   "cell_type": "markdown",
   "id": "8e0a1f08-78a4-45a6-a96a-2b3d815d94f8",
   "metadata": {},
   "source": [
    "For the last time, we created a dataframe using 'pandas' to put the results from the last lines of code into a dataframe:"
   ]
  },
  {
   "cell_type": "code",
   "execution_count": 6,
   "id": "7c496dd3-b9df-4c0c-a636-08161b230664",
   "metadata": {},
   "outputs": [
    {
     "data": {
      "text/html": [
       "<div>\n",
       "<style scoped>\n",
       "    .dataframe tbody tr th:only-of-type {\n",
       "        vertical-align: middle;\n",
       "    }\n",
       "\n",
       "    .dataframe tbody tr th {\n",
       "        vertical-align: top;\n",
       "    }\n",
       "\n",
       "    .dataframe thead th {\n",
       "        text-align: right;\n",
       "    }\n",
       "</style>\n",
       "<table border=\"1\" class=\"dataframe\">\n",
       "  <thead>\n",
       "    <tr style=\"text-align: right;\">\n",
       "      <th></th>\n",
       "      <th>Word</th>\n",
       "      <th>POS</th>\n",
       "      <th>Dependency label</th>\n",
       "      <th>Head</th>\n",
       "    </tr>\n",
       "  </thead>\n",
       "  <tbody>\n",
       "    <tr>\n",
       "      <th>0</th>\n",
       "      <td>Segons</td>\n",
       "      <td>ADP</td>\n",
       "      <td>case</td>\n",
       "      <td>informe</td>\n",
       "    </tr>\n",
       "    <tr>\n",
       "      <th>1</th>\n",
       "      <td>aquest</td>\n",
       "      <td>DET</td>\n",
       "      <td>det</td>\n",
       "      <td>informe</td>\n",
       "    </tr>\n",
       "    <tr>\n",
       "      <th>2</th>\n",
       "      <td>informe</td>\n",
       "      <td>NOUN</td>\n",
       "      <td>obl</td>\n",
       "      <td>baix</td>\n",
       "    </tr>\n",
       "    <tr>\n",
       "      <th>3</th>\n",
       "      <td>,</td>\n",
       "      <td>PUNCT</td>\n",
       "      <td>punct</td>\n",
       "      <td>informe</td>\n",
       "    </tr>\n",
       "    <tr>\n",
       "      <th>4</th>\n",
       "      <td>el</td>\n",
       "      <td>DET</td>\n",
       "      <td>det</td>\n",
       "      <td>pes</td>\n",
       "    </tr>\n",
       "    <tr>\n",
       "      <th>5</th>\n",
       "      <td>pes</td>\n",
       "      <td>NOUN</td>\n",
       "      <td>nsubj</td>\n",
       "      <td>baix</td>\n",
       "    </tr>\n",
       "    <tr>\n",
       "      <th>6</th>\n",
       "      <td>d'</td>\n",
       "      <td>ADP</td>\n",
       "      <td>case</td>\n",
       "      <td>empreses</td>\n",
       "    </tr>\n",
       "    <tr>\n",
       "      <th>7</th>\n",
       "      <td>aquestes</td>\n",
       "      <td>DET</td>\n",
       "      <td>det</td>\n",
       "      <td>empreses</td>\n",
       "    </tr>\n",
       "    <tr>\n",
       "      <th>8</th>\n",
       "      <td>empreses</td>\n",
       "      <td>NOUN</td>\n",
       "      <td>nmod</td>\n",
       "      <td>pes</td>\n",
       "    </tr>\n",
       "    <tr>\n",
       "      <th>9</th>\n",
       "      <td>com</td>\n",
       "      <td>SCONJ</td>\n",
       "      <td>case</td>\n",
       "      <td>mitjanceres</td>\n",
       "    </tr>\n",
       "    <tr>\n",
       "      <th>10</th>\n",
       "      <td>a</td>\n",
       "      <td>ADP</td>\n",
       "      <td>fixed</td>\n",
       "      <td>com</td>\n",
       "    </tr>\n",
       "    <tr>\n",
       "      <th>11</th>\n",
       "      <td>mitjanceres</td>\n",
       "      <td>NOUN</td>\n",
       "      <td>nmod</td>\n",
       "      <td>empreses</td>\n",
       "    </tr>\n",
       "    <tr>\n",
       "      <th>12</th>\n",
       "      <td>de</td>\n",
       "      <td>ADP</td>\n",
       "      <td>case</td>\n",
       "      <td>contractació</td>\n",
       "    </tr>\n",
       "    <tr>\n",
       "      <th>13</th>\n",
       "      <td>la</td>\n",
       "      <td>DET</td>\n",
       "      <td>det</td>\n",
       "      <td>conatractació</td>\n",
       "    </tr>\n",
       "    <tr>\n",
       "      <th>14</th>\n",
       "      <td>contractació</td>\n",
       "      <td>NOUN</td>\n",
       "      <td>nmod</td>\n",
       "      <td>mitjanceres</td>\n",
       "    </tr>\n",
       "    <tr>\n",
       "      <th>15</th>\n",
       "      <td>va</td>\n",
       "      <td>AUX</td>\n",
       "      <td>aux</td>\n",
       "      <td>baix</td>\n",
       "    </tr>\n",
       "    <tr>\n",
       "      <th>16</th>\n",
       "      <td>ser</td>\n",
       "      <td>AUX</td>\n",
       "      <td>cop</td>\n",
       "      <td>baix</td>\n",
       "    </tr>\n",
       "    <tr>\n",
       "      <th>17</th>\n",
       "      <td>l'</td>\n",
       "      <td>DET</td>\n",
       "      <td>det</td>\n",
       "      <td>any</td>\n",
       "    </tr>\n",
       "    <tr>\n",
       "      <th>18</th>\n",
       "      <td>any</td>\n",
       "      <td>NOUN</td>\n",
       "      <td>obl</td>\n",
       "      <td>baix</td>\n",
       "    </tr>\n",
       "    <tr>\n",
       "      <th>19</th>\n",
       "      <td>2000</td>\n",
       "      <td>NUM</td>\n",
       "      <td>compound entity</td>\n",
       "      <td>any</td>\n",
       "    </tr>\n",
       "    <tr>\n",
       "      <th>20</th>\n",
       "      <td>el</td>\n",
       "      <td>DET</td>\n",
       "      <td>det</td>\n",
       "      <td>baix</td>\n",
       "    </tr>\n",
       "    <tr>\n",
       "      <th>21</th>\n",
       "      <td>més</td>\n",
       "      <td>ADV</td>\n",
       "      <td>advmod</td>\n",
       "      <td>baix</td>\n",
       "    </tr>\n",
       "    <tr>\n",
       "      <th>22</th>\n",
       "      <td>baix</td>\n",
       "      <td>ADJ</td>\n",
       "      <td>root</td>\n",
       "      <td>0</td>\n",
       "    </tr>\n",
       "    <tr>\n",
       "      <th>23</th>\n",
       "      <td>de</td>\n",
       "      <td>ADP</td>\n",
       "      <td>case</td>\n",
       "      <td>anys</td>\n",
       "    </tr>\n",
       "    <tr>\n",
       "      <th>24</th>\n",
       "      <td>els</td>\n",
       "      <td>DET</td>\n",
       "      <td>det</td>\n",
       "      <td>anys</td>\n",
       "    </tr>\n",
       "    <tr>\n",
       "      <th>25</th>\n",
       "      <td>darrers</td>\n",
       "      <td>ADJ</td>\n",
       "      <td>amod</td>\n",
       "      <td>tres</td>\n",
       "    </tr>\n",
       "    <tr>\n",
       "      <th>26</th>\n",
       "      <td>tres</td>\n",
       "      <td>NUM</td>\n",
       "      <td>nummod</td>\n",
       "      <td>anys</td>\n",
       "    </tr>\n",
       "    <tr>\n",
       "      <th>27</th>\n",
       "      <td>anys</td>\n",
       "      <td>NOUN</td>\n",
       "      <td>nmod</td>\n",
       "      <td>baix</td>\n",
       "    </tr>\n",
       "    <tr>\n",
       "      <th>28</th>\n",
       "      <td>,</td>\n",
       "      <td>PUNCT</td>\n",
       "      <td>punct</td>\n",
       "      <td>formalització</td>\n",
       "    </tr>\n",
       "    <tr>\n",
       "      <th>29</th>\n",
       "      <td>amb</td>\n",
       "      <td>ADP</td>\n",
       "      <td>case</td>\n",
       "      <td>formalització</td>\n",
       "    </tr>\n",
       "    <tr>\n",
       "      <th>30</th>\n",
       "      <td>la</td>\n",
       "      <td>DET</td>\n",
       "      <td>det</td>\n",
       "      <td>formalització</td>\n",
       "    </tr>\n",
       "    <tr>\n",
       "      <th>31</th>\n",
       "      <td>formalització</td>\n",
       "      <td>NOUN</td>\n",
       "      <td>obl</td>\n",
       "      <td>baix</td>\n",
       "    </tr>\n",
       "    <tr>\n",
       "      <th>32</th>\n",
       "      <td>de</td>\n",
       "      <td>ADP</td>\n",
       "      <td>case</td>\n",
       "      <td>contractes</td>\n",
       "    </tr>\n",
       "    <tr>\n",
       "      <th>33</th>\n",
       "      <td>1782</td>\n",
       "      <td>NUM</td>\n",
       "      <td>nummod</td>\n",
       "      <td>contractes</td>\n",
       "    </tr>\n",
       "    <tr>\n",
       "      <th>34</th>\n",
       "      <td>contractes</td>\n",
       "      <td>NOUN</td>\n",
       "      <td>nmod</td>\n",
       "      <td>formalització</td>\n",
       "    </tr>\n",
       "    <tr>\n",
       "      <th>35</th>\n",
       "      <td>,</td>\n",
       "      <td>PUNCT</td>\n",
       "      <td>punct</td>\n",
       "      <td>19,4</td>\n",
       "    </tr>\n",
       "    <tr>\n",
       "      <th>36</th>\n",
       "      <td>un</td>\n",
       "      <td>PRON</td>\n",
       "      <td>nmod</td>\n",
       "      <td>19,4</td>\n",
       "    </tr>\n",
       "    <tr>\n",
       "      <th>37</th>\n",
       "      <td>19,4</td>\n",
       "      <td>NUM</td>\n",
       "      <td>appos</td>\n",
       "      <td>contractes</td>\n",
       "    </tr>\n",
       "    <tr>\n",
       "      <th>38</th>\n",
       "      <td>per</td>\n",
       "      <td>ADP</td>\n",
       "      <td>case</td>\n",
       "      <td>cent</td>\n",
       "    </tr>\n",
       "    <tr>\n",
       "      <th>39</th>\n",
       "      <td>cent</td>\n",
       "      <td>NUM</td>\n",
       "      <td>compound</td>\n",
       "      <td>19,4</td>\n",
       "    </tr>\n",
       "    <tr>\n",
       "      <th>40</th>\n",
       "      <td>de</td>\n",
       "      <td>ADP</td>\n",
       "      <td>case</td>\n",
       "      <td>total</td>\n",
       "    </tr>\n",
       "    <tr>\n",
       "      <th>41</th>\n",
       "      <td>el</td>\n",
       "      <td>DET</td>\n",
       "      <td>det</td>\n",
       "      <td>total</td>\n",
       "    </tr>\n",
       "    <tr>\n",
       "      <th>42</th>\n",
       "      <td>total</td>\n",
       "      <td>NOUN</td>\n",
       "      <td>nmod</td>\n",
       "      <td>19,4</td>\n",
       "    </tr>\n",
       "    <tr>\n",
       "      <th>43</th>\n",
       "      <td>.</td>\n",
       "      <td>PUNCT</td>\n",
       "      <td>punct</td>\n",
       "      <td>baix</td>\n",
       "    </tr>\n",
       "  </tbody>\n",
       "</table>\n",
       "</div>"
      ],
      "text/plain": [
       "             Word    POS Dependency label           Head\n",
       "0          Segons    ADP             case        informe\n",
       "1          aquest    DET              det        informe\n",
       "2         informe   NOUN              obl           baix\n",
       "3               ,  PUNCT            punct        informe\n",
       "4              el    DET              det            pes\n",
       "5             pes   NOUN            nsubj           baix\n",
       "6              d'    ADP             case       empreses\n",
       "7        aquestes    DET              det       empreses\n",
       "8        empreses   NOUN             nmod            pes\n",
       "9             com  SCONJ             case    mitjanceres\n",
       "10              a    ADP            fixed            com\n",
       "11    mitjanceres   NOUN             nmod       empreses\n",
       "12             de    ADP             case   contractació\n",
       "13             la    DET              det  conatractació\n",
       "14   contractació   NOUN             nmod    mitjanceres\n",
       "15             va    AUX              aux           baix\n",
       "16            ser    AUX              cop           baix\n",
       "17             l'    DET              det            any\n",
       "18            any   NOUN              obl           baix\n",
       "19           2000    NUM  compound entity            any\n",
       "20             el    DET              det           baix\n",
       "21            més    ADV           advmod           baix\n",
       "22           baix    ADJ             root              0\n",
       "23             de    ADP             case           anys\n",
       "24            els    DET              det           anys\n",
       "25        darrers    ADJ             amod           tres\n",
       "26           tres    NUM           nummod           anys\n",
       "27           anys   NOUN             nmod           baix\n",
       "28              ,  PUNCT            punct  formalització\n",
       "29            amb    ADP             case  formalització\n",
       "30             la    DET              det  formalització\n",
       "31  formalització   NOUN              obl           baix\n",
       "32             de    ADP             case     contractes\n",
       "33           1782    NUM           nummod     contractes\n",
       "34     contractes   NOUN             nmod  formalització\n",
       "35              ,  PUNCT            punct           19,4\n",
       "36             un   PRON             nmod           19,4\n",
       "37           19,4    NUM            appos     contractes\n",
       "38            per    ADP             case           cent\n",
       "39           cent    NUM         compound           19,4\n",
       "40             de    ADP             case          total\n",
       "41             el    DET              det          total\n",
       "42          total   NOUN             nmod           19,4\n",
       "43              .  PUNCT            punct           baix"
      ]
     },
     "metadata": {},
     "output_type": "display_data"
    }
   ],
   "source": [
    "import pandas as pd\n",
    "data_catalan_spacy = {'Word':['Segons', 'aquest', 'informe', ',', 'el' ,'pes', \"d'\", 'aquestes' ,'empreses', 'com', 'a', 'mitjanceres', 'de', 'la', 'contractació', 'va', 'ser', \"l'\", 'any', '2000', 'el', 'més', 'baix', 'de', 'els', 'darrers', 'tres', 'anys', ',', 'amb', 'la', 'formalització', 'de', '1782', 'contractes', ',', 'un', '19,4', 'per', 'cent', 'de', 'el', 'total', '.'],\n",
    "        'POS':['ADP', 'DET', 'NOUN', 'PUNCT', 'DET', 'NOUN', 'ADP', 'DET', 'NOUN', 'SCONJ', 'ADP', 'NOUN', 'ADP', 'DET', 'NOUN', 'AUX', 'AUX', 'DET', 'NOUN', 'NUM', 'DET', 'ADV', 'ADJ', 'ADP', 'DET', 'ADJ', 'NUM', 'NOUN', 'PUNCT', 'ADP', 'DET', 'NOUN', 'ADP', 'NUM', 'NOUN', 'PUNCT', 'PRON', 'NUM', 'ADP', 'NUM', 'ADP', 'DET', 'NOUN', 'PUNCT'],\n",
    "        'Dependency label' :['case', 'det', 'obl', 'punct', 'det', 'nsubj', 'case', 'det', 'nmod', 'case', 'fixed', 'nmod', 'case', 'det', 'nmod', 'aux', 'cop', 'det', 'obl', 'compound entity', 'det', 'advmod', 'root', 'case', 'det', 'amod', 'nummod', 'nmod', 'punct', 'case', 'det', 'obl', 'case', 'nummod', 'nmod', 'punct', 'nmod', 'appos', 'case', 'compound', 'case', 'det', 'nmod', 'punct'],\n",
    "        'Head' : ['informe', 'informe', 'baix', 'informe', 'pes', 'baix', 'empreses', 'empreses', 'pes', 'mitjanceres', 'com', 'empreses', 'contractació', 'conatractació', 'mitjanceres', 'baix', 'baix', 'any', 'baix', 'any', 'baix', 'baix', '0', 'anys', 'anys', 'tres', 'anys', 'baix', 'formalització', 'formalització', 'formalització', 'baix', 'contractes', 'contractes', 'formalització', '19,4', '19,4', 'contractes', 'cent', '19,4', 'total', 'total', '19,4', 'baix']\n",
    "        }\n",
    "df = pd.DataFrame(data_catalan_spacy)\n",
    "display(df)"
   ]
  },
  {
   "cell_type": "markdown",
   "id": "3facc0d6-67b3-43d5-887d-700fd342eed5",
   "metadata": {},
   "source": [
    "# EVALUATION"
   ]
  },
  {
   "cell_type": "markdown",
   "id": "9725b809-b57b-46d4-9359-e26fa40852d5",
   "metadata": {},
   "source": [
    "In order to to be able to calculate the precision, recall, F1 score and accuracy, we first needed to design some lines of code which would return the correct number of both heads and dependencies for each language, hence the four variations of the algorithm. These lines of code compared the values present in the spacy results to the data from the UD treebank, adding +1 whenever there was a correspondence between our benchmark and the parser we were evaluating and, in the end, providing us with the total number of correct either heads or dependency labels and for each language."
   ]
  },
  {
   "cell_type": "markdown",
   "id": "5d3d53db-f38a-4e15-aafa-4373b5f2f421",
   "metadata": {},
   "source": [
    "##### Number of correct heads in the English sample:"
   ]
  },
  {
   "cell_type": "code",
   "execution_count": 21,
   "id": "f819e604-94f8-4b5f-b313-43e7aa5a3728",
   "metadata": {},
   "outputs": [
    {
     "name": "stdout",
     "output_type": "stream",
     "text": [
      "7\n"
     ]
    }
   ],
   "source": [
    "correct_heads_en = 0 \n",
    "key = \"Head\"\n",
    "if key in data_english_UD and key in data_english_spacy:\n",
    "  UD_heads_en = data_english_UD[key]\n",
    "  spacy_heads_en = data_english_spacy[key]\n",
    "  for x in range(len(UD_heads_en)):\n",
    "    if UD_heads_en[x] == spacy_heads_en[x]:\n",
    "      correct_heads_en += 1\n",
    "print(correct_heads_en)"
   ]
  },
  {
   "cell_type": "markdown",
   "id": "2b094b88-7e3f-4f29-a6c6-e66945c497ea",
   "metadata": {},
   "source": [
    "##### Number of correct heads in the Catalan sample:"
   ]
  },
  {
   "cell_type": "code",
   "execution_count": 22,
   "id": "28f5555d-6512-4790-9f6f-3c85ce7065ac",
   "metadata": {},
   "outputs": [
    {
     "name": "stdout",
     "output_type": "stream",
     "text": [
      "44\n"
     ]
    }
   ],
   "source": [
    "correct_heads_cat = 0 \n",
    "key = \"Head\"\n",
    "if key in data_catalan_UD and key in data_catalan_spacy:\n",
    "  UD_heads_cat = data_catalan_UD[key]\n",
    "  spacy_heads_cat = data_catalan_spacy[key]\n",
    "  for x in range(len(UD_heads_cat)):\n",
    "    if UD_heads_cat[x] == spacy_heads_cat[x]:\n",
    "      correct_heads_cat += 1\n",
    "print(correct_heads_cat)"
   ]
  },
  {
   "cell_type": "markdown",
   "id": "9aed61f1-aec0-4067-8fb3-712d223d118e",
   "metadata": {},
   "source": [
    "##### Number of correct dependency labels in the English sample:"
   ]
  },
  {
   "cell_type": "code",
   "execution_count": 24,
   "id": "2b42d023-c17f-452f-aaa8-fc7fe559d216",
   "metadata": {},
   "outputs": [
    {
     "name": "stdout",
     "output_type": "stream",
     "text": [
      "17\n"
     ]
    }
   ],
   "source": [
    "correct_labels_en = 0 \n",
    "key = \"Dependency label\"\n",
    "if key in data_english_UD and key in data_english_spacy:\n",
    "  UD_dependency_labels_en = data_english_UD[key]\n",
    "  spacy_dependency_labels_en = data_english_spacy[key]\n",
    "  for x in range(len(UD_dependency_labels_en)):\n",
    "    if UD_dependency_labels_en[x] == spacy_dependency_labels_en[x]:\n",
    "      correct_labels_en += 1\n",
    "print(correct_labels_en)"
   ]
  },
  {
   "cell_type": "markdown",
   "id": "33b49117-fa1c-4785-b34a-d41ec9a9b31f",
   "metadata": {},
   "source": [
    "##### Number of correct dependency labels in the Catalan sample:"
   ]
  },
  {
   "cell_type": "code",
   "execution_count": 27,
   "id": "24403924-573f-40a2-af0a-ab53b77e392c",
   "metadata": {},
   "outputs": [
    {
     "name": "stdout",
     "output_type": "stream",
     "text": [
      "44\n"
     ]
    }
   ],
   "source": [
    "correct_labels_cat = 0 \n",
    "key = \"Dependency label\"\n",
    "if key in data_catalan_UD and key in data_catalan_spacy:\n",
    "  UD_dependency_labels_cat = data_catalan_UD[key]\n",
    "  spacy_dependency_labels_cat = data_catalan_spacy[key]\n",
    "  for x in range(len(UD_dependency_labels_cat)):\n",
    "    if UD_dependency_labels_cat[x] == spacy_dependency_labels_cat[x]:\n",
    "      correct_labels_cat += 1\n",
    "print(correct_labels_cat)"
   ]
  },
  {
   "cell_type": "markdown",
   "id": "43f3e79e-3ca7-4b5d-97e5-2ac1fb33878d",
   "metadata": {},
   "source": [
    "## 1. PRECISION"
   ]
  },
  {
   "cell_type": "markdown",
   "id": "dbd1bd68-b815-4b61-9279-194e7ef57c16",
   "metadata": {},
   "source": [
    "### 1.1. HEAD PRECISION"
   ]
  },
  {
   "cell_type": "markdown",
   "id": "a90b36ef-f5ef-4549-acee-bcc044c0c21e",
   "metadata": {},
   "source": [
    "P = number of system correct heads / total number of spacy heads"
   ]
  },
  {
   "cell_type": "markdown",
   "id": "989d0afd-eaec-4b70-85d4-7b438796188a",
   "metadata": {},
   "source": [
    "##### For the English sample:"
   ]
  },
  {
   "cell_type": "markdown",
   "id": "191803b1-5d44-41ef-bc84-39f2ce826e94",
   "metadata": {},
   "source": [
    "In order to calculate the total number of heads, we did the following:"
   ]
  },
  {
   "cell_type": "code",
   "execution_count": 34,
   "id": "1640bb25-cede-4cfc-92ef-770fc3a82a0e",
   "metadata": {},
   "outputs": [
    {
     "name": "stdout",
     "output_type": "stream",
     "text": [
      "28\n"
     ]
    }
   ],
   "source": [
    "length_key_en_spacy = len(data_english_spacy['Head'])\n",
    "print(length_key_en_spacy)"
   ]
  },
  {
   "cell_type": "code",
   "execution_count": 35,
   "id": "defd03db-4b5c-42ae-abd5-45594d1e9214",
   "metadata": {},
   "outputs": [],
   "source": [
    "P_head_en = correct_heads_en / length_key_en_spacy"
   ]
  },
  {
   "cell_type": "code",
   "execution_count": 36,
   "id": "6196f393-061a-4f3c-8377-f519b999d67d",
   "metadata": {},
   "outputs": [
    {
     "name": "stdout",
     "output_type": "stream",
     "text": [
      "0.25\n"
     ]
    }
   ],
   "source": [
    "print(P_head_en)"
   ]
  },
  {
   "cell_type": "markdown",
   "id": "ab9f5124-aabd-42a6-b55c-55c47fa35b54",
   "metadata": {},
   "source": [
    "##### For the Catalan sample:"
   ]
  },
  {
   "cell_type": "markdown",
   "id": "bb37bfc4-7503-4473-9371-01d6ff014889",
   "metadata": {},
   "source": [
    "We did the same as in the English sample to calculate the total number of heads in Catalan detected by the parser:"
   ]
  },
  {
   "cell_type": "code",
   "execution_count": 37,
   "id": "c97e1d82-3f32-4620-8945-ce20d40a253c",
   "metadata": {},
   "outputs": [
    {
     "name": "stdout",
     "output_type": "stream",
     "text": [
      "44\n"
     ]
    }
   ],
   "source": [
    "length_key_cat_spacy = len(data_catalan_spacy['Head'])\n",
    "print(length_key_cat_spacy)"
   ]
  },
  {
   "cell_type": "code",
   "execution_count": 38,
   "id": "ee5ef502-dd47-49e6-95b0-05a2b11bc9d5",
   "metadata": {},
   "outputs": [],
   "source": [
    "P_head_cat = correct_heads_cat / length_key_cat_spacy"
   ]
  },
  {
   "cell_type": "code",
   "execution_count": 39,
   "id": "f0660c06-5774-41af-b640-81eb0ca84c8f",
   "metadata": {},
   "outputs": [
    {
     "name": "stdout",
     "output_type": "stream",
     "text": [
      "1.0\n"
     ]
    }
   ],
   "source": [
    "print(P_head_cat)"
   ]
  },
  {
   "cell_type": "markdown",
   "id": "d405b0ec-2a24-421b-bc27-6394914bf0f8",
   "metadata": {},
   "source": [
    "### 1.2. DEPENDENCY PRECISION"
   ]
  },
  {
   "cell_type": "markdown",
   "id": "3872de68-764d-4632-9aaf-3553df54e6a0",
   "metadata": {},
   "source": [
    "P = number of system correct dependencies / total number of spacy dependencies"
   ]
  },
  {
   "cell_type": "markdown",
   "id": "19a2de06-7bb8-46e3-9387-0c14e9ffc730",
   "metadata": {},
   "source": [
    "##### For the English sample:"
   ]
  },
  {
   "cell_type": "code",
   "execution_count": 40,
   "id": "c1d8752c-78e6-4ae9-a201-278e6d669469",
   "metadata": {},
   "outputs": [],
   "source": [
    "P_dep_en = correct_labels_en / length_key_en_spacy"
   ]
  },
  {
   "cell_type": "markdown",
   "id": "55eb8e65-ba52-4e28-9b4d-ea96a3fc90dc",
   "metadata": {},
   "source": [
    "*Note: We don't need to calculate the length of the total number of dependencies by using the 'Dependency labels' key instead of the 'Head' one because the number of tokens will be the same."
   ]
  },
  {
   "cell_type": "code",
   "execution_count": 41,
   "id": "d761fe9c-42bb-48d6-8408-fc95bd5579a5",
   "metadata": {},
   "outputs": [
    {
     "name": "stdout",
     "output_type": "stream",
     "text": [
      "0.6071428571428571\n"
     ]
    }
   ],
   "source": [
    "print(P_dep_en)"
   ]
  },
  {
   "cell_type": "markdown",
   "id": "8d4189ba-5dfe-493b-8074-15d35dd38d05",
   "metadata": {},
   "source": [
    "##### For the Catalan sample:"
   ]
  },
  {
   "cell_type": "code",
   "execution_count": 42,
   "id": "dcae65a6-50e3-4e87-9270-f292292872c1",
   "metadata": {},
   "outputs": [],
   "source": [
    "P_dep_cat = correct_labels_cat / length_key_cat_spacy"
   ]
  },
  {
   "cell_type": "markdown",
   "id": "bbb0039e-bd36-486a-875d-a40141bf9e81",
   "metadata": {},
   "source": [
    "*Note: Again, we don't need to calculate the length of the total number of dependencies by using the 'Dependency labels' key instead of the 'Head' one because the number of tokens will be the same."
   ]
  },
  {
   "cell_type": "code",
   "execution_count": 43,
   "id": "b9eadf85-5611-434c-a112-8301ea2222d4",
   "metadata": {},
   "outputs": [
    {
     "name": "stdout",
     "output_type": "stream",
     "text": [
      "1.0\n"
     ]
    }
   ],
   "source": [
    "print(P_dep_cat)"
   ]
  },
  {
   "cell_type": "markdown",
   "id": "5970c7a9-53df-40e3-8791-7f349167fcf9",
   "metadata": {},
   "source": [
    "## 2. RECALL"
   ]
  },
  {
   "cell_type": "markdown",
   "id": "fb70b02b-d84c-4d55-acd2-ed6c18f5d0c4",
   "metadata": {},
   "source": [
    "### 2.1. HEAD RECALL"
   ]
  },
  {
   "cell_type": "markdown",
   "id": "b86bd1be-2eca-4d82-bd6d-9c59a6c9d9f8",
   "metadata": {},
   "source": [
    "R = number of system correct heads / total number of gold heads"
   ]
  },
  {
   "cell_type": "markdown",
   "id": "fa4edf75-cc9e-46a1-a0f0-ea010089aefd",
   "metadata": {},
   "source": [
    "##### For the English sample:"
   ]
  },
  {
   "cell_type": "markdown",
   "id": "aa713925-9a24-4777-8a94-e9156c7ed1db",
   "metadata": {},
   "source": [
    "Again, we had to calculate the total number of heads but, this time, from the UD treebank data."
   ]
  },
  {
   "cell_type": "code",
   "execution_count": 44,
   "id": "41ed376c-14a7-42e6-b374-3396a7b910ff",
   "metadata": {},
   "outputs": [
    {
     "name": "stdout",
     "output_type": "stream",
     "text": [
      "28\n"
     ]
    }
   ],
   "source": [
    "length_key_en_gold = len(data_english_UD['Head'])\n",
    "print(length_key_en_gold)"
   ]
  },
  {
   "cell_type": "code",
   "execution_count": 45,
   "id": "635a7d9d-4b1a-440b-accd-32abc599b5e2",
   "metadata": {},
   "outputs": [],
   "source": [
    "R_head_en = correct_heads_en / length_key_en_gold"
   ]
  },
  {
   "cell_type": "code",
   "execution_count": 46,
   "id": "f55a28af-0e6b-44f1-9eca-54bbaf69e71f",
   "metadata": {},
   "outputs": [
    {
     "name": "stdout",
     "output_type": "stream",
     "text": [
      "0.25\n"
     ]
    }
   ],
   "source": [
    "print(R_head_en)"
   ]
  },
  {
   "cell_type": "markdown",
   "id": "b8fb1d44-5f11-4a19-8426-47f05d4c48d7",
   "metadata": {},
   "source": [
    "##### For the Catalan sample:"
   ]
  },
  {
   "cell_type": "markdown",
   "id": "31f6fdb7-32cf-4e95-8502-0866ba8ab384",
   "metadata": {},
   "source": [
    "We had to calculate the same thing but for the Catalan sample."
   ]
  },
  {
   "cell_type": "code",
   "execution_count": 47,
   "id": "15bfa7aa-8eb2-4282-a985-e3054757b99a",
   "metadata": {},
   "outputs": [
    {
     "name": "stdout",
     "output_type": "stream",
     "text": [
      "44\n"
     ]
    }
   ],
   "source": [
    "length_key_cat_gold = len(data_catalan_UD['Head'])\n",
    "print(length_key_cat_gold)"
   ]
  },
  {
   "cell_type": "code",
   "execution_count": 48,
   "id": "15400497-2967-4365-8247-9f3e3ffd80d7",
   "metadata": {},
   "outputs": [],
   "source": [
    "R_head_cat = correct_heads_cat / length_key_cat_gold"
   ]
  },
  {
   "cell_type": "code",
   "execution_count": 49,
   "id": "4687b6fc-62b6-47b8-be82-0fd133e7bdf8",
   "metadata": {},
   "outputs": [
    {
     "name": "stdout",
     "output_type": "stream",
     "text": [
      "1.0\n"
     ]
    }
   ],
   "source": [
    "print(R_head_cat)"
   ]
  },
  {
   "cell_type": "markdown",
   "id": "4eb00718-337a-4b25-a21e-325985c988ac",
   "metadata": {},
   "source": [
    "### 2.2. DEPENDENCIES RECALL"
   ]
  },
  {
   "cell_type": "markdown",
   "id": "56065b33-8459-4901-8fc4-d88957f5a134",
   "metadata": {},
   "source": [
    "R = system correct dependencies / total number of gold tokens"
   ]
  },
  {
   "cell_type": "markdown",
   "id": "02971bb6-cb02-47f9-903d-e0cb73cbebe8",
   "metadata": {},
   "source": [
    "##### For the English sample:"
   ]
  },
  {
   "cell_type": "code",
   "execution_count": 50,
   "id": "5edc135d-7a5d-47a9-bb81-8947ab70fc29",
   "metadata": {},
   "outputs": [],
   "source": [
    "R_dep_en = correct_labels_en / length_key_en_gold"
   ]
  },
  {
   "cell_type": "code",
   "execution_count": 51,
   "id": "31bb000a-0ad7-4149-baf7-1837fcbdf41b",
   "metadata": {},
   "outputs": [
    {
     "name": "stdout",
     "output_type": "stream",
     "text": [
      "0.6071428571428571\n"
     ]
    }
   ],
   "source": [
    "print(R_dep_en)"
   ]
  },
  {
   "cell_type": "markdown",
   "id": "3b42368e-e882-4752-a7be-2e5320660452",
   "metadata": {},
   "source": [
    "##### For the Catalan sample:"
   ]
  },
  {
   "cell_type": "code",
   "execution_count": 52,
   "id": "b1a07c78-7aed-4cab-b585-e25c2ca9a555",
   "metadata": {},
   "outputs": [],
   "source": [
    "R_dep_cat = correct_labels_cat / length_key_cat_gold"
   ]
  },
  {
   "cell_type": "code",
   "execution_count": 53,
   "id": "39ebc961-6d3b-4170-8eae-ffeb653ef01a",
   "metadata": {},
   "outputs": [
    {
     "name": "stdout",
     "output_type": "stream",
     "text": [
      "1.0\n"
     ]
    }
   ],
   "source": [
    "print(R_dep_cat)"
   ]
  },
  {
   "cell_type": "markdown",
   "id": "aef978fa-5d5e-463d-8519-8538ae2fd1f0",
   "metadata": {},
   "source": [
    "### PRECISION AND RECALL - SUMMARY"
   ]
  },
  {
   "cell_type": "code",
   "execution_count": 54,
   "id": "cf02811a-53c4-4839-aa8f-61701f4312bf",
   "metadata": {
    "jupyter": {
     "source_hidden": true
    },
    "tags": []
   },
   "outputs": [
    {
     "data": {
      "text/html": [
       "<div>\n",
       "<style scoped>\n",
       "    .dataframe tbody tr th:only-of-type {\n",
       "        vertical-align: middle;\n",
       "    }\n",
       "\n",
       "    .dataframe tbody tr th {\n",
       "        vertical-align: top;\n",
       "    }\n",
       "\n",
       "    .dataframe thead th {\n",
       "        text-align: right;\n",
       "    }\n",
       "</style>\n",
       "<table border=\"1\" class=\"dataframe\">\n",
       "  <thead>\n",
       "    <tr style=\"text-align: right;\">\n",
       "      <th></th>\n",
       "      <th>HEADS-PRECISION ENG</th>\n",
       "      <th>DEPENDENCIES-PRECISION ENG</th>\n",
       "      <th>HEADS-PRECISION CAT</th>\n",
       "      <th>DEPENDENCIES-PRECISION CAT</th>\n",
       "    </tr>\n",
       "  </thead>\n",
       "  <tbody>\n",
       "    <tr>\n",
       "      <th>0</th>\n",
       "      <td>0.25</td>\n",
       "      <td>0.607143</td>\n",
       "      <td>1.0</td>\n",
       "      <td>1.0</td>\n",
       "    </tr>\n",
       "  </tbody>\n",
       "</table>\n",
       "</div>"
      ],
      "text/plain": [
       "   HEADS-PRECISION ENG  DEPENDENCIES-PRECISION ENG  HEADS-PRECISION CAT  \\\n",
       "0                 0.25                    0.607143                  1.0   \n",
       "\n",
       "   DEPENDENCIES-PRECISION CAT  \n",
       "0                         1.0  "
      ]
     },
     "metadata": {},
     "output_type": "display_data"
    }
   ],
   "source": [
    "import pandas as pd\n",
    "data_catalan = {'HEADS-PRECISION ENG':[P_head_en],\n",
    "        'DEPENDENCIES-PRECISION ENG':[P_dep_en],\n",
    "        'HEADS-PRECISION CAT' :[P_head_cat],\n",
    "        'DEPENDENCIES-PRECISION CAT' : [P_dep_cat]\n",
    "        }\n",
    "df = pd.DataFrame(data_catalan)\n",
    "display(df)"
   ]
  },
  {
   "cell_type": "code",
   "execution_count": 55,
   "id": "e74a69bd-8629-43a1-ab23-540a70d13efe",
   "metadata": {
    "jupyter": {
     "source_hidden": true
    },
    "tags": []
   },
   "outputs": [
    {
     "data": {
      "text/html": [
       "<div>\n",
       "<style scoped>\n",
       "    .dataframe tbody tr th:only-of-type {\n",
       "        vertical-align: middle;\n",
       "    }\n",
       "\n",
       "    .dataframe tbody tr th {\n",
       "        vertical-align: top;\n",
       "    }\n",
       "\n",
       "    .dataframe thead th {\n",
       "        text-align: right;\n",
       "    }\n",
       "</style>\n",
       "<table border=\"1\" class=\"dataframe\">\n",
       "  <thead>\n",
       "    <tr style=\"text-align: right;\">\n",
       "      <th></th>\n",
       "      <th>HEADS-RECALL ENG</th>\n",
       "      <th>DEPENDENCIES-RECALL ENG</th>\n",
       "      <th>HEADS-RECALL CAT</th>\n",
       "      <th>DEPENDENCIES-RECALL CAT</th>\n",
       "    </tr>\n",
       "  </thead>\n",
       "  <tbody>\n",
       "    <tr>\n",
       "      <th>0</th>\n",
       "      <td>0.25</td>\n",
       "      <td>0.607143</td>\n",
       "      <td>1.0</td>\n",
       "      <td>1.0</td>\n",
       "    </tr>\n",
       "  </tbody>\n",
       "</table>\n",
       "</div>"
      ],
      "text/plain": [
       "   HEADS-RECALL ENG  DEPENDENCIES-RECALL ENG  HEADS-RECALL CAT  \\\n",
       "0              0.25                 0.607143               1.0   \n",
       "\n",
       "   DEPENDENCIES-RECALL CAT  \n",
       "0                      1.0  "
      ]
     },
     "metadata": {},
     "output_type": "display_data"
    }
   ],
   "source": [
    "import pandas as pd\n",
    "data_catalan = {'HEADS-RECALL ENG':[R_head_en],\n",
    "        'DEPENDENCIES-RECALL ENG':[R_dep_en],\n",
    "        'HEADS-RECALL CAT' :[R_head_cat],\n",
    "        'DEPENDENCIES-RECALL CAT' : [R_dep_cat]\n",
    "        }\n",
    "df = pd.DataFrame(data_catalan)\n",
    "display(df)"
   ]
  },
  {
   "cell_type": "markdown",
   "id": "99c06139-2ab8-4456-a855-43b8b61d269f",
   "metadata": {},
   "source": [
    "## 3. F1 SCORE"
   ]
  },
  {
   "cell_type": "markdown",
   "id": "b9492cb8-16c9-472c-9010-c5fa753c235b",
   "metadata": {},
   "source": [
    "### 3.1. HEAD F1 SCORE"
   ]
  },
  {
   "cell_type": "markdown",
   "id": "1ce265b6-37c8-4a66-aacc-43204f5b4278",
   "metadata": {},
   "source": [
    "F1 = 2 * (precision*recall / precision + recall)"
   ]
  },
  {
   "cell_type": "markdown",
   "id": "3c1bad41-898f-4716-ac9a-9c5a518e0076",
   "metadata": {},
   "source": [
    "##### For English sample:"
   ]
  },
  {
   "cell_type": "code",
   "execution_count": 71,
   "id": "17cc1cae-b00e-43f1-b1fb-ba137f4cefd4",
   "metadata": {},
   "outputs": [],
   "source": [
    "F1_head_en = 2 * (P_head_en*R_head_en / (P_head_en+R_head_en))"
   ]
  },
  {
   "cell_type": "code",
   "execution_count": 72,
   "id": "f908d5ca-2de8-41e0-b41c-51521d8b6247",
   "metadata": {},
   "outputs": [
    {
     "name": "stdout",
     "output_type": "stream",
     "text": [
      "0.25\n"
     ]
    }
   ],
   "source": [
    "print(F1_head_en)"
   ]
  },
  {
   "cell_type": "markdown",
   "id": "82175dd0-8f86-4054-9837-cb6e6ed7336c",
   "metadata": {},
   "source": [
    "##### For Catalan sample:"
   ]
  },
  {
   "cell_type": "code",
   "execution_count": 73,
   "id": "c161d009-0ab4-44df-85c9-2c0e108d6038",
   "metadata": {},
   "outputs": [],
   "source": [
    "F1_head_cat = 2 * (P_head_cat*R_head_cat / (P_head_cat+R_head_cat))"
   ]
  },
  {
   "cell_type": "code",
   "execution_count": 74,
   "id": "8c5d91a2-f20e-429e-9acc-d39424fdbeb1",
   "metadata": {},
   "outputs": [
    {
     "name": "stdout",
     "output_type": "stream",
     "text": [
      "1.0\n"
     ]
    }
   ],
   "source": [
    "print(F1_head_cat)"
   ]
  },
  {
   "cell_type": "markdown",
   "id": "5836f91c-6045-4d3c-9a9f-72679536451a",
   "metadata": {},
   "source": [
    "### 3.2. DEPENDENCIES F1 SCORE"
   ]
  },
  {
   "cell_type": "markdown",
   "id": "76a58bf7-ab80-4835-a06c-5fa6025a3e05",
   "metadata": {},
   "source": [
    "##### For English sample:"
   ]
  },
  {
   "cell_type": "code",
   "execution_count": 79,
   "id": "2d42a6b9-d8bf-4c3c-91af-abe3ecb870fa",
   "metadata": {},
   "outputs": [],
   "source": [
    "F1_dep_en = 2 * (P_dep_en*R_dep_en / (P_dep_en+R_dep_en))"
   ]
  },
  {
   "cell_type": "code",
   "execution_count": 80,
   "id": "1b69a121-5757-4e82-9020-df80618c5c37",
   "metadata": {},
   "outputs": [
    {
     "name": "stdout",
     "output_type": "stream",
     "text": [
      "0.6071428571428571\n"
     ]
    }
   ],
   "source": [
    "print(F1_dep_en)"
   ]
  },
  {
   "cell_type": "markdown",
   "id": "3fdecf2b-ccbc-492b-8dc6-ebbf79212bde",
   "metadata": {},
   "source": [
    "##### For Catalan sample:"
   ]
  },
  {
   "cell_type": "code",
   "execution_count": 81,
   "id": "846d126d-a1f4-415e-abb0-53e1b0bd0124",
   "metadata": {},
   "outputs": [],
   "source": [
    "F1_dep_cat = 2 * (P_dep_cat*R_dep_cat / (P_dep_cat+R_dep_cat))"
   ]
  },
  {
   "cell_type": "code",
   "execution_count": 82,
   "id": "4fc270e1-65eb-4fc5-82e3-053fcee14ed3",
   "metadata": {},
   "outputs": [
    {
     "name": "stdout",
     "output_type": "stream",
     "text": [
      "1.0\n"
     ]
    }
   ],
   "source": [
    "print(F1_dep_cat)"
   ]
  },
  {
   "cell_type": "markdown",
   "id": "7c2b14f3-867d-43ee-be96-28b660aaafb0",
   "metadata": {},
   "source": [
    "## 4. ACCURACY\n"
   ]
  },
  {
   "cell_type": "markdown",
   "id": "5d5f2eb6-577f-40e3-bcae-3caff36cf882",
   "metadata": {},
   "source": [
    "A_overall = (number of correct heads and dependency labels) / total number of tokens\n",
    "\n",
    "*Note: The number of correct heads and dependency labels is not a sum; it corresponds to the number of cases in which both the heads AND dependency labels coincide with the gold standard UD-T."
   ]
  },
  {
   "cell_type": "markdown",
   "id": "beb056d3-52ea-4c54-ba24-9c96bf585412",
   "metadata": {},
   "source": [
    "##### For English sample:"
   ]
  },
  {
   "cell_type": "code",
   "execution_count": 84,
   "id": "7093ac99-e21b-47d2-8e09-e19e71525cf7",
   "metadata": {},
   "outputs": [
    {
     "name": "stdout",
     "output_type": "stream",
     "text": [
      "5\n"
     ]
    }
   ],
   "source": [
    "correct_labels_en_acc = 0 \n",
    "key1 = \"Dependency label\"\n",
    "key2 = \"Head\"\n",
    "if key1 in data_english_UD and key1 in data_english_spacy:\n",
    "  UD_dependency_labels_acc_en = data_english_UD[key1]\n",
    "  spacy_dependency_labels_acc_en = data_english_spacy[key1]\n",
    "  UD_heads_acc_en = data_english_UD[key2]\n",
    "  spacy_heads_acc_en = data_english_spacy[key2]\n",
    "  for x in range(len(UD_dependency_labels_acc_en)):\n",
    "     if UD_dependency_labels_acc_en[x] == spacy_dependency_labels_acc_en[x] and UD_heads_acc_en[x] == spacy_heads_acc_en[x]:\n",
    "      correct_labels_en_acc += 1\n",
    "print(correct_labels_en_acc)"
   ]
  },
  {
   "cell_type": "code",
   "execution_count": 85,
   "id": "6a38e269-1b61-4da4-9d0d-d4e36bfbafc7",
   "metadata": {},
   "outputs": [
    {
     "name": "stdout",
     "output_type": "stream",
     "text": [
      "0.17857142857142858\n"
     ]
    }
   ],
   "source": [
    "A_overall_en = correct_labels_en_acc / length_key_en_gold\n",
    "print(A_overall_en)"
   ]
  },
  {
   "cell_type": "markdown",
   "id": "7c7ff480-6f7f-4b6e-845f-23b9a27f7896",
   "metadata": {},
   "source": [
    "##### For Catalan sample:"
   ]
  },
  {
   "cell_type": "code",
   "execution_count": 86,
   "id": "da1a5934-606b-4e95-90bc-7fb4374b3f1e",
   "metadata": {},
   "outputs": [
    {
     "name": "stdout",
     "output_type": "stream",
     "text": [
      "44\n"
     ]
    }
   ],
   "source": [
    "correct_labels_cat_acc = 0 \n",
    "key1 = \"Dependency label\"\n",
    "key2 = \"Head\"\n",
    "if key1 in data_catalan_UD and key1 in data_catalan_spacy:\n",
    "  UD_dependency_labels_acc_cat = data_catalan_UD[key1]\n",
    "  spacy_dependency_labels_acc_cat = data_catalan_spacy[key1]\n",
    "  UD_heads_acc_cat = data_catalan_UD[key2]\n",
    "  spacy_heads_acc_cat = data_catalan_spacy[key2]\n",
    "  for x in range(len(UD_dependency_labels_acc_cat)):\n",
    "    if UD_dependency_labels_acc_cat[x] == spacy_dependency_labels_acc_cat[x] and UD_heads_acc_cat[x] == spacy_heads_acc_cat[x]:\n",
    "      correct_labels_cat_acc += 1\n",
    "print(correct_labels_cat_acc)"
   ]
  },
  {
   "cell_type": "code",
   "execution_count": 87,
   "id": "3ec57899-5911-491e-82be-e34acd6c1d51",
   "metadata": {},
   "outputs": [
    {
     "name": "stdout",
     "output_type": "stream",
     "text": [
      "1.0\n"
     ]
    }
   ],
   "source": [
    "A_overall_cat = correct_labels_cat_acc / length_key_cat_gold\n",
    "print(A_overall_cat)"
   ]
  }
 ],
 "metadata": {
  "kernelspec": {
   "display_name": "Python 3 (ipykernel)",
   "language": "python",
   "name": "python3"
  },
  "language_info": {
   "codemirror_mode": {
    "name": "ipython",
    "version": 3
   },
   "file_extension": ".py",
   "mimetype": "text/x-python",
   "name": "python",
   "nbconvert_exporter": "python",
   "pygments_lexer": "ipython3",
   "version": "3.9.12"
  }
 },
 "nbformat": 4,
 "nbformat_minor": 5
}
